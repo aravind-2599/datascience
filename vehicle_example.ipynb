{
 "cells": [
  {
   "cell_type": "code",
   "execution_count": 1,
   "metadata": {},
   "outputs": [],
   "source": [
    "import numpy as np \n",
    "import pandas as pd\n",
    "import matplotlib.pyplot as plt\n",
    "%matplotlib inline\n",
    "plt.rcParams['figure.figsize'] = (10.0, 8.0)\n",
    "import seaborn as sns\n",
    "from scipy import stats\n",
    "from scipy.stats import norm"
   ]
  },
  {
   "cell_type": "code",
   "execution_count": 2,
   "metadata": {},
   "outputs": [],
   "source": [
    "df = pd.read_csv('vehicles.csv')\n",
    "# df"
   ]
  },
  {
   "cell_type": "code",
   "execution_count": 3,
   "metadata": {},
   "outputs": [],
   "source": [
    "pd.set_option('display.max_columns', 26)\n"
   ]
  },
  {
   "cell_type": "code",
   "execution_count": 4,
   "metadata": {},
   "outputs": [],
   "source": [
    "df.set_index('id', inplace=True)"
   ]
  },
  {
   "cell_type": "code",
   "execution_count": 5,
   "metadata": {},
   "outputs": [],
   "source": [
    "df.drop('Unnamed: 0', axis=1, inplace = True)"
   ]
  },
  {
   "cell_type": "code",
   "execution_count": 6,
   "metadata": {},
   "outputs": [
    {
     "data": {
      "text/plain": [
       "Index(['year', 'manufacturer', 'model', 'condition', 'cylinders', 'fuel',\n",
       "       'odometer', 'title_status', 'transmission', 'VIN', 'drive', 'size',\n",
       "       'type', 'paint_color', 'image_url', 'description', 'lat', 'long',\n",
       "       'posting_date'],\n",
       "      dtype='object')"
      ]
     },
     "execution_count": 6,
     "metadata": {},
     "output_type": "execute_result"
    }
   ],
   "source": [
    "df.columns[df.isnull().any()]\n"
   ]
  },
  {
   "cell_type": "code",
   "execution_count": 7,
   "metadata": {},
   "outputs": [],
   "source": [
    "# df"
   ]
  },
  {
   "cell_type": "markdown",
   "metadata": {},
   "source": [
    "#missing values proportion "
   ]
  },
  {
   "cell_type": "code",
   "execution_count": 8,
   "metadata": {},
   "outputs": [
    {
     "data": {
      "text/plain": [
       "posting_date    0.000061\n",
       "image_url       0.000061\n",
       "description     0.000153\n",
       "year            0.002292\n",
       "transmission    0.005329\n",
       "title_status    0.005624\n",
       "fuel            0.007064\n",
       "model           0.010576\n",
       "long            0.016254\n",
       "lat             0.016254\n",
       "manufacturer    0.039763\n",
       "odometer        0.120693\n",
       "type            0.246038\n",
       "drive           0.292851\n",
       "paint_color     0.307375\n",
       "cylinders       0.373494\n",
       "VIN             0.409305\n",
       "condition       0.421071\n",
       "size            0.701307\n",
       "dtype: float64"
      ]
     },
     "execution_count": 8,
     "metadata": {},
     "output_type": "execute_result"
    }
   ],
   "source": [
    "miss = df.isnull().sum()/len(df)\n",
    "miss = miss[miss > 0]\n",
    "miss.sort_values(inplace=True)\n",
    "miss\n"
   ]
  },
  {
   "cell_type": "code",
   "execution_count": 9,
   "metadata": {},
   "outputs": [
    {
     "data": {
      "text/html": [
       "<div>\n",
       "<style scoped>\n",
       "    .dataframe tbody tr th:only-of-type {\n",
       "        vertical-align: middle;\n",
       "    }\n",
       "\n",
       "    .dataframe tbody tr th {\n",
       "        vertical-align: top;\n",
       "    }\n",
       "\n",
       "    .dataframe thead th {\n",
       "        text-align: right;\n",
       "    }\n",
       "</style>\n",
       "<table border=\"1\" class=\"dataframe\">\n",
       "  <thead>\n",
       "    <tr style=\"text-align: right;\">\n",
       "      <th></th>\n",
       "      <th>ColumnName</th>\n",
       "      <th>Missingprop</th>\n",
       "    </tr>\n",
       "  </thead>\n",
       "  <tbody>\n",
       "    <tr>\n",
       "      <td>0</td>\n",
       "      <td>posting_date</td>\n",
       "      <td>0.000061</td>\n",
       "    </tr>\n",
       "    <tr>\n",
       "      <td>1</td>\n",
       "      <td>image_url</td>\n",
       "      <td>0.000061</td>\n",
       "    </tr>\n",
       "    <tr>\n",
       "      <td>2</td>\n",
       "      <td>description</td>\n",
       "      <td>0.000153</td>\n",
       "    </tr>\n",
       "    <tr>\n",
       "      <td>3</td>\n",
       "      <td>year</td>\n",
       "      <td>0.002292</td>\n",
       "    </tr>\n",
       "    <tr>\n",
       "      <td>4</td>\n",
       "      <td>transmission</td>\n",
       "      <td>0.005329</td>\n",
       "    </tr>\n",
       "    <tr>\n",
       "      <td>5</td>\n",
       "      <td>title_status</td>\n",
       "      <td>0.005624</td>\n",
       "    </tr>\n",
       "    <tr>\n",
       "      <td>6</td>\n",
       "      <td>fuel</td>\n",
       "      <td>0.007064</td>\n",
       "    </tr>\n",
       "    <tr>\n",
       "      <td>7</td>\n",
       "      <td>model</td>\n",
       "      <td>0.010576</td>\n",
       "    </tr>\n",
       "    <tr>\n",
       "      <td>8</td>\n",
       "      <td>long</td>\n",
       "      <td>0.016254</td>\n",
       "    </tr>\n",
       "    <tr>\n",
       "      <td>9</td>\n",
       "      <td>lat</td>\n",
       "      <td>0.016254</td>\n",
       "    </tr>\n",
       "    <tr>\n",
       "      <td>10</td>\n",
       "      <td>manufacturer</td>\n",
       "      <td>0.039763</td>\n",
       "    </tr>\n",
       "    <tr>\n",
       "      <td>11</td>\n",
       "      <td>odometer</td>\n",
       "      <td>0.120693</td>\n",
       "    </tr>\n",
       "    <tr>\n",
       "      <td>12</td>\n",
       "      <td>type</td>\n",
       "      <td>0.246038</td>\n",
       "    </tr>\n",
       "    <tr>\n",
       "      <td>13</td>\n",
       "      <td>drive</td>\n",
       "      <td>0.292851</td>\n",
       "    </tr>\n",
       "    <tr>\n",
       "      <td>14</td>\n",
       "      <td>paint_color</td>\n",
       "      <td>0.307375</td>\n",
       "    </tr>\n",
       "    <tr>\n",
       "      <td>15</td>\n",
       "      <td>cylinders</td>\n",
       "      <td>0.373494</td>\n",
       "    </tr>\n",
       "    <tr>\n",
       "      <td>16</td>\n",
       "      <td>VIN</td>\n",
       "      <td>0.409305</td>\n",
       "    </tr>\n",
       "    <tr>\n",
       "      <td>17</td>\n",
       "      <td>condition</td>\n",
       "      <td>0.421071</td>\n",
       "    </tr>\n",
       "    <tr>\n",
       "      <td>18</td>\n",
       "      <td>size</td>\n",
       "      <td>0.701307</td>\n",
       "    </tr>\n",
       "  </tbody>\n",
       "</table>\n",
       "</div>"
      ],
      "text/plain": [
       "      ColumnName  Missingprop\n",
       "0   posting_date     0.000061\n",
       "1      image_url     0.000061\n",
       "2    description     0.000153\n",
       "3           year     0.002292\n",
       "4   transmission     0.005329\n",
       "5   title_status     0.005624\n",
       "6           fuel     0.007064\n",
       "7          model     0.010576\n",
       "8           long     0.016254\n",
       "9            lat     0.016254\n",
       "10  manufacturer     0.039763\n",
       "11      odometer     0.120693\n",
       "12          type     0.246038\n",
       "13         drive     0.292851\n",
       "14   paint_color     0.307375\n",
       "15     cylinders     0.373494\n",
       "16           VIN     0.409305\n",
       "17     condition     0.421071\n",
       "18          size     0.701307"
      ]
     },
     "execution_count": 9,
     "metadata": {},
     "output_type": "execute_result"
    }
   ],
   "source": [
    "miss_df = pd.DataFrame(miss)\n",
    "miss_df.reset_index(inplace=True)\n",
    "miss_df.columns = ['ColumnName', 'Missingprop']\n",
    "miss_df"
   ]
  },
  {
   "cell_type": "code",
   "execution_count": 10,
   "metadata": {},
   "outputs": [
    {
     "name": "stdout",
     "output_type": "stream",
     "text": [
      "Requirement already satisfied: plotly in d:\\python\\lib\\site-packages (4.14.3)\n",
      "Requirement already satisfied: six in d:\\python\\lib\\site-packages (from plotly) (1.12.0)\n",
      "Requirement already satisfied: retrying>=1.3.3 in d:\\python\\lib\\site-packages (from plotly) (1.3.3)\n"
     ]
    }
   ],
   "source": [
    "!pip install plotly"
   ]
  },
  {
   "cell_type": "code",
   "execution_count": 11,
   "metadata": {},
   "outputs": [],
   "source": [
    "df.drop(columns='size', inplace=True)\n",
    "# df"
   ]
  },
  {
   "cell_type": "code",
   "execution_count": 12,
   "metadata": {},
   "outputs": [
    {
     "name": "stdout",
     "output_type": "stream",
     "text": [
      "40420.93069598637\n",
      "8194589.661750307\n"
     ]
    }
   ],
   "source": [
    "mean = np.mean(df['price'])\n",
    "print(mean)\n",
    "std = np.std(df['price'])\n",
    "print(std)"
   ]
  },
  {
   "cell_type": "code",
   "execution_count": 13,
   "metadata": {},
   "outputs": [
    {
     "name": "stdout",
     "output_type": "stream",
     "text": [
      "21\n"
     ]
    }
   ],
   "source": [
    "threshold = 8194589\n",
    "outlier = []\n",
    "for i in df['price']:\n",
    "    if i > threshold:\n",
    "        outlier.append(i)\n",
    "print(len(outlier))"
   ]
  },
  {
   "cell_type": "code",
   "execution_count": 14,
   "metadata": {},
   "outputs": [],
   "source": [
    "df.drop(df[df['price'] > 8194589].index, inplace=True)\n",
    "# df"
   ]
  },
  {
   "cell_type": "code",
   "execution_count": 15,
   "metadata": {},
   "outputs": [
    {
     "data": {
      "text/plain": [
       "array(['auburn', 'birmingham', 'dothan', 'florence / muscle shoals',\n",
       "       'gadsden-anniston', 'huntsville / decatur', 'mobile', 'montgomery',\n",
       "       'tuscaloosa', 'anchorage / mat-su', 'fairbanks', 'kenai peninsula',\n",
       "       'southeast alaska', 'flagstaff / sedona', 'mohave county',\n",
       "       'phoenix', 'prescott', 'show low', 'sierra vista', 'tucson',\n",
       "       'yuma', 'fayetteville', 'fort smith', 'jonesboro', 'little rock',\n",
       "       'texarkana', 'bakersfield', 'chico', 'fresno / madera',\n",
       "       'gold country', 'hanford-corcoran', 'humboldt county',\n",
       "       'imperial county', 'inland empire', 'los angeles',\n",
       "       'mendocino county', 'merced', 'modesto', 'monterey bay',\n",
       "       'orange county', 'palm springs', 'redding', 'reno / tahoe',\n",
       "       'sacramento', 'san diego', 'san luis obispo', 'santa barbara',\n",
       "       'santa maria', 'SF bay area', 'siskiyou county', 'stockton',\n",
       "       'susanville', 'ventura county', 'visalia-tulare', 'yuba-sutter',\n",
       "       'boulder', 'colorado springs', 'denver', 'eastern CO',\n",
       "       'fort collins / north CO', 'high rockies', 'pueblo',\n",
       "       'western slope', 'eastern CT', 'hartford', 'new haven',\n",
       "       'northwest CT', 'washington, DC', 'delaware', 'daytona beach',\n",
       "       'florida keys', 'ft myers / SW florida', 'gainesville',\n",
       "       'heartland florida', 'jacksonville', 'lakeland',\n",
       "       'north central FL', 'ocala', 'okaloosa / walton', 'orlando',\n",
       "       'panama city', 'pensacola', 'sarasota-bradenton', 'south florida',\n",
       "       'space coast', 'st augustine', 'tallahassee', 'tampa bay area',\n",
       "       'treasure coast', 'albany', 'athens', 'atlanta', 'augusta',\n",
       "       'brunswick', 'columbus', 'macon / warner robins', 'northwest GA',\n",
       "       'savannah / hinesville', 'statesboro', 'valdosta', 'hawaii',\n",
       "       'boise', 'east idaho', 'lewiston / clarkston', 'pullman / moscow',\n",
       "       \"spokane / coeur d'alene\", 'twin falls', 'bloomington-normal',\n",
       "       'champaign urbana', 'chicago', 'decatur', 'la salle co',\n",
       "       'mattoon-charleston', 'peoria', 'quad cities, IA/IL', 'rockford',\n",
       "       'southern illinois', 'springfield', 'st louis, MO', 'western IL',\n",
       "       'bloomington', 'evansville', 'fort wayne', 'indianapolis',\n",
       "       'kokomo', 'lafayette / west lafayette', 'muncie / anderson',\n",
       "       'richmond', 'south bend / michiana', 'terre haute', 'ames',\n",
       "       'cedar rapids', 'des moines', 'dubuque', 'fort dodge', 'iowa city',\n",
       "       'mason city', 'omaha / council bluffs', 'sioux city',\n",
       "       'southeast IA', 'waterloo / cedar falls', 'kansas city, MO',\n",
       "       'lawrence', 'manhattan', 'northwest KS', 'salina', 'southeast KS',\n",
       "       'southwest KS', 'topeka', 'wichita', 'bowling green',\n",
       "       'eastern kentucky', 'huntington-ashland', 'lexington',\n",
       "       'louisville', 'owensboro', 'western KY', 'baton rouge',\n",
       "       'central louisiana', 'houma', 'lafayette', 'lake charles',\n",
       "       'monroe', 'new orleans', 'shreveport', 'maine', 'annapolis',\n",
       "       'baltimore', 'cumberland valley', 'eastern shore', 'frederick',\n",
       "       'southern maryland', 'western maryland', 'boston',\n",
       "       'cape cod / islands', 'south coast', 'western massachusetts',\n",
       "       'worcester / central MA', 'ann arbor', 'battle creek',\n",
       "       'central michigan', 'detroit metro', 'flint', 'grand rapids',\n",
       "       'holland', 'jackson', 'kalamazoo', 'lansing', 'muskegon',\n",
       "       'northern michigan', 'port huron', 'saginaw-midland-baycity',\n",
       "       'southwest michigan', 'the thumb', 'upper peninsula', 'bemidji',\n",
       "       'brainerd', 'duluth / superior', 'fargo / moorhead', 'mankato',\n",
       "       'minneapolis / st paul', 'rochester', 'southwest MN', 'st cloud',\n",
       "       'gulfport / biloxi', 'hattiesburg', 'meridian',\n",
       "       'north mississippi', 'southwest MS', 'columbia / jeff city',\n",
       "       'joplin', 'kansas city', 'kirksville', 'lake of the ozarks',\n",
       "       'southeast missouri', 'st joseph', 'st louis', 'billings',\n",
       "       'bozeman', 'butte', 'eastern montana', 'great falls', 'helena',\n",
       "       'kalispell', 'missoula', 'asheville', 'boone', 'charlotte',\n",
       "       'eastern NC', 'greensboro', 'hickory / lenoir', 'outer banks',\n",
       "       'raleigh / durham / CH', 'wilmington', 'winston-salem',\n",
       "       'grand island', 'lincoln', 'north platte',\n",
       "       'scottsbluff / panhandle', 'elko', 'las vegas', 'central NJ',\n",
       "       'jersey shore', 'north jersey', 'south jersey', 'albuquerque',\n",
       "       'clovis / portales', 'farmington', 'las cruces',\n",
       "       'roswell / carlsbad', 'santa fe / taos', 'binghamton', 'buffalo',\n",
       "       'catskills', 'chautauqua', 'elmira-corning', 'finger lakes',\n",
       "       'glens falls', 'hudson valley', 'ithaca', 'long island',\n",
       "       'new york city', 'oneonta', 'plattsburgh-adirondacks',\n",
       "       'potsdam-canton-massena', 'syracuse', 'twin tiers NY/PA',\n",
       "       'utica-rome-oneida', 'watertown', 'new hampshire', 'bismarck',\n",
       "       'grand forks', 'north dakota', 'akron / canton', 'ashtabula',\n",
       "       'chillicothe', 'cincinnati', 'cleveland', 'dayton / springfield',\n",
       "       'lima / findlay', 'mansfield', 'northern panhandle',\n",
       "       'parkersburg-marietta', 'sandusky', 'toledo', 'tuscarawas co',\n",
       "       'youngstown', 'zanesville / cambridge', 'fort smith, AR', 'lawton',\n",
       "       'northwest OK', 'oklahoma city', 'stillwater', 'texoma', 'tulsa',\n",
       "       'bend', 'corvallis/albany', 'east oregon', 'eugene',\n",
       "       'klamath falls', 'medford-ashland', 'oregon coast', 'portland',\n",
       "       'roseburg', 'salem', 'altoona-johnstown', 'erie', 'harrisburg',\n",
       "       'lancaster', 'lehigh valley', 'meadville', 'philadelphia',\n",
       "       'pittsburgh', 'poconos', 'reading', 'scranton / wilkes-barre',\n",
       "       'state college', 'williamsport', 'york', 'rhode island',\n",
       "       'charleston', 'columbia', 'florence', 'greenville / upstate',\n",
       "       'hilton head', 'myrtle beach', 'northeast SD',\n",
       "       'pierre / central SD', 'rapid city / west SD',\n",
       "       'sioux falls / SE SD', 'south dakota', 'chattanooga',\n",
       "       'clarksville', 'cookeville', 'knoxville', 'memphis', 'nashville',\n",
       "       'tri-cities', 'abilene', 'amarillo', 'austin',\n",
       "       'beaumont / port arthur', 'brownsville', 'college station',\n",
       "       'corpus christi', 'dallas / fort worth', 'deep east texas',\n",
       "       'del rio / eagle pass', 'el paso', 'galveston', 'houston',\n",
       "       'killeen / temple / ft hood', 'laredo', 'lubbock',\n",
       "       'mcallen / edinburg', 'odessa / midland', 'san angelo',\n",
       "       'san antonio', 'san marcos', 'southwest TX', 'tyler / east TX',\n",
       "       'victoria', 'waco', 'wichita falls', 'logan', 'ogden-clearfield',\n",
       "       'provo / orem', 'salt lake city', 'st george', 'vermont',\n",
       "       'charlottesville', 'danville', 'fredericksburg', 'harrisonburg',\n",
       "       'lynchburg', 'new river valley', 'norfolk / hampton roads',\n",
       "       'roanoke', 'southwest VA', 'winchester', 'bellingham',\n",
       "       'kennewick-pasco-richland', 'moses lake', 'olympic peninsula',\n",
       "       'seattle-tacoma', 'skagit / island / SJI', 'wenatchee', 'yakima',\n",
       "       'eastern panhandle', 'morgantown', 'southern WV',\n",
       "       'west virginia (old)', 'appleton-oshkosh-FDL', 'eau claire',\n",
       "       'green bay', 'janesville', 'kenosha-racine', 'la crosse',\n",
       "       'madison', 'milwaukee', 'northern WI', 'sheboygan', 'wausau',\n",
       "       'wyoming', 'sioux city, IA'], dtype=object)"
      ]
     },
     "execution_count": 15,
     "metadata": {},
     "output_type": "execute_result"
    }
   ],
   "source": [
    "df['region'].unique()"
   ]
  },
  {
   "cell_type": "code",
   "execution_count": 16,
   "metadata": {},
   "outputs": [
    {
     "data": {
      "text/plain": [
       "array(['good', 'excellent', nan, 'like new', 'fair', 'salvage', 'new'],\n",
       "      dtype=object)"
      ]
     },
     "execution_count": 16,
     "metadata": {},
     "output_type": "execute_result"
    }
   ],
   "source": [
    "df['condition'].unique()"
   ]
  },
  {
   "cell_type": "markdown",
   "metadata": {},
   "source": [
    "#imputation\n"
   ]
  },
  {
   "cell_type": "code",
   "execution_count": 17,
   "metadata": {},
   "outputs": [],
   "source": [
    "df.dropna(subset=['posting_date', 'description', 'model'], inplace=True)\n",
    "# df"
   ]
  },
  {
   "cell_type": "code",
   "execution_count": 18,
   "metadata": {},
   "outputs": [
    {
     "data": {
      "text/plain": [
       "(453308, 22)"
      ]
     },
     "execution_count": 18,
     "metadata": {},
     "output_type": "execute_result"
    }
   ],
   "source": [
    "df.drop(columns='VIN', inplace=True)\n",
    "df.shape"
   ]
  },
  {
   "cell_type": "code",
   "execution_count": 19,
   "metadata": {},
   "outputs": [
    {
     "data": {
      "text/plain": [
       "(453308, 19)"
      ]
     },
     "execution_count": 19,
     "metadata": {},
     "output_type": "execute_result"
    }
   ],
   "source": [
    "df.drop(columns=['url', 'region_url', 'image_url'], inplace=True)\n",
    "df.shape"
   ]
  },
  {
   "cell_type": "code",
   "execution_count": 20,
   "metadata": {},
   "outputs": [
    {
     "data": {
      "text/plain": [
       "Index(['year', 'manufacturer', 'condition', 'cylinders', 'fuel', 'odometer',\n",
       "       'title_status', 'transmission', 'drive', 'type', 'paint_color', 'lat',\n",
       "       'long'],\n",
       "      dtype='object')"
      ]
     },
     "execution_count": 20,
     "metadata": {},
     "output_type": "execute_result"
    }
   ],
   "source": [
    "df.columns[df.isnull().any()]"
   ]
  },
  {
   "cell_type": "code",
   "execution_count": 21,
   "metadata": {},
   "outputs": [
    {
     "data": {
      "text/html": [
       "<div>\n",
       "<style scoped>\n",
       "    .dataframe tbody tr th:only-of-type {\n",
       "        vertical-align: middle;\n",
       "    }\n",
       "\n",
       "    .dataframe tbody tr th {\n",
       "        vertical-align: top;\n",
       "    }\n",
       "\n",
       "    .dataframe thead th {\n",
       "        text-align: right;\n",
       "    }\n",
       "</style>\n",
       "<table border=\"1\" class=\"dataframe\">\n",
       "  <thead>\n",
       "    <tr style=\"text-align: right;\">\n",
       "      <th></th>\n",
       "      <th>region</th>\n",
       "      <th>price</th>\n",
       "      <th>year</th>\n",
       "      <th>manufacturer</th>\n",
       "      <th>model</th>\n",
       "      <th>condition</th>\n",
       "      <th>cylinders</th>\n",
       "      <th>fuel</th>\n",
       "      <th>odometer</th>\n",
       "      <th>title_status</th>\n",
       "      <th>transmission</th>\n",
       "      <th>drive</th>\n",
       "      <th>type</th>\n",
       "      <th>paint_color</th>\n",
       "      <th>description</th>\n",
       "      <th>state</th>\n",
       "      <th>lat</th>\n",
       "      <th>long</th>\n",
       "      <th>posting_date</th>\n",
       "    </tr>\n",
       "    <tr>\n",
       "      <th>id</th>\n",
       "      <th></th>\n",
       "      <th></th>\n",
       "      <th></th>\n",
       "      <th></th>\n",
       "      <th></th>\n",
       "      <th></th>\n",
       "      <th></th>\n",
       "      <th></th>\n",
       "      <th></th>\n",
       "      <th></th>\n",
       "      <th></th>\n",
       "      <th></th>\n",
       "      <th></th>\n",
       "      <th></th>\n",
       "      <th></th>\n",
       "      <th></th>\n",
       "      <th></th>\n",
       "      <th></th>\n",
       "      <th></th>\n",
       "    </tr>\n",
       "  </thead>\n",
       "  <tbody>\n",
       "    <tr>\n",
       "      <td>7240372487</td>\n",
       "      <td>auburn</td>\n",
       "      <td>35990</td>\n",
       "      <td>2010.0</td>\n",
       "      <td>chevrolet</td>\n",
       "      <td>corvette grand sport</td>\n",
       "      <td>good</td>\n",
       "      <td>8 cylinders</td>\n",
       "      <td>gas</td>\n",
       "      <td>32742.0</td>\n",
       "      <td>clean</td>\n",
       "      <td>other</td>\n",
       "      <td>rwd</td>\n",
       "      <td>other</td>\n",
       "      <td>NaN</td>\n",
       "      <td>Carvana is the safer way to buy a car During t...</td>\n",
       "      <td>al</td>\n",
       "      <td>32.590000</td>\n",
       "      <td>-85.480000</td>\n",
       "      <td>2020-12-02T08:11:30-0600</td>\n",
       "    </tr>\n",
       "    <tr>\n",
       "      <td>7240309422</td>\n",
       "      <td>auburn</td>\n",
       "      <td>7500</td>\n",
       "      <td>2014.0</td>\n",
       "      <td>hyundai</td>\n",
       "      <td>sonata</td>\n",
       "      <td>excellent</td>\n",
       "      <td>4 cylinders</td>\n",
       "      <td>gas</td>\n",
       "      <td>93600.0</td>\n",
       "      <td>clean</td>\n",
       "      <td>automatic</td>\n",
       "      <td>fwd</td>\n",
       "      <td>sedan</td>\n",
       "      <td>NaN</td>\n",
       "      <td>I'll move to another city and try to sell my c...</td>\n",
       "      <td>al</td>\n",
       "      <td>32.547500</td>\n",
       "      <td>-85.468200</td>\n",
       "      <td>2020-12-02T02:11:50-0600</td>\n",
       "    </tr>\n",
       "    <tr>\n",
       "      <td>7240224296</td>\n",
       "      <td>auburn</td>\n",
       "      <td>4900</td>\n",
       "      <td>2006.0</td>\n",
       "      <td>bmw</td>\n",
       "      <td>x3 3.0i</td>\n",
       "      <td>good</td>\n",
       "      <td>6 cylinders</td>\n",
       "      <td>gas</td>\n",
       "      <td>87046.0</td>\n",
       "      <td>clean</td>\n",
       "      <td>automatic</td>\n",
       "      <td>NaN</td>\n",
       "      <td>SUV</td>\n",
       "      <td>blue</td>\n",
       "      <td>Clean 2006 BMW X3 3.0I.  Beautiful and rare Bl...</td>\n",
       "      <td>al</td>\n",
       "      <td>32.616807</td>\n",
       "      <td>-85.464149</td>\n",
       "      <td>2020-12-01T19:50:41-0600</td>\n",
       "    </tr>\n",
       "    <tr>\n",
       "      <td>7240103965</td>\n",
       "      <td>auburn</td>\n",
       "      <td>2000</td>\n",
       "      <td>1974.0</td>\n",
       "      <td>chevrolet</td>\n",
       "      <td>c-10</td>\n",
       "      <td>good</td>\n",
       "      <td>4 cylinders</td>\n",
       "      <td>gas</td>\n",
       "      <td>190000.0</td>\n",
       "      <td>clean</td>\n",
       "      <td>automatic</td>\n",
       "      <td>rwd</td>\n",
       "      <td>pickup</td>\n",
       "      <td>blue</td>\n",
       "      <td>1974 chev. truck (LONG BED) NEW starter front ...</td>\n",
       "      <td>al</td>\n",
       "      <td>32.861600</td>\n",
       "      <td>-85.216100</td>\n",
       "      <td>2020-12-01T15:54:45-0600</td>\n",
       "    </tr>\n",
       "    <tr>\n",
       "      <td>7239983776</td>\n",
       "      <td>auburn</td>\n",
       "      <td>19500</td>\n",
       "      <td>2005.0</td>\n",
       "      <td>ford</td>\n",
       "      <td>f350 lariat</td>\n",
       "      <td>excellent</td>\n",
       "      <td>8 cylinders</td>\n",
       "      <td>diesel</td>\n",
       "      <td>116000.0</td>\n",
       "      <td>lien</td>\n",
       "      <td>automatic</td>\n",
       "      <td>4wd</td>\n",
       "      <td>pickup</td>\n",
       "      <td>blue</td>\n",
       "      <td>2005 Ford F350 Lariat (Bullet Proofed). This t...</td>\n",
       "      <td>al</td>\n",
       "      <td>32.547500</td>\n",
       "      <td>-85.468200</td>\n",
       "      <td>2020-12-01T12:53:56-0600</td>\n",
       "    </tr>\n",
       "    <tr>\n",
       "      <td>...</td>\n",
       "      <td>...</td>\n",
       "      <td>...</td>\n",
       "      <td>...</td>\n",
       "      <td>...</td>\n",
       "      <td>...</td>\n",
       "      <td>...</td>\n",
       "      <td>...</td>\n",
       "      <td>...</td>\n",
       "      <td>...</td>\n",
       "      <td>...</td>\n",
       "      <td>...</td>\n",
       "      <td>...</td>\n",
       "      <td>...</td>\n",
       "      <td>...</td>\n",
       "      <td>...</td>\n",
       "      <td>...</td>\n",
       "      <td>...</td>\n",
       "      <td>...</td>\n",
       "      <td>...</td>\n",
       "    </tr>\n",
       "    <tr>\n",
       "      <td>7240959076</td>\n",
       "      <td>wausau</td>\n",
       "      <td>14995</td>\n",
       "      <td>2014.0</td>\n",
       "      <td>cadillac</td>\n",
       "      <td>srx</td>\n",
       "      <td>excellent</td>\n",
       "      <td>6 cylinders</td>\n",
       "      <td>gas</td>\n",
       "      <td>83790.0</td>\n",
       "      <td>clean</td>\n",
       "      <td>automatic</td>\n",
       "      <td>4wd</td>\n",
       "      <td>SUV</td>\n",
       "      <td>silver</td>\n",
       "      <td>2014 Cadillac SRX All Wheel Drive Luxury Colle...</td>\n",
       "      <td>wi</td>\n",
       "      <td>44.408867</td>\n",
       "      <td>-89.881210</td>\n",
       "      <td>2020-12-03T08:56:29-0600</td>\n",
       "    </tr>\n",
       "    <tr>\n",
       "      <td>7240954682</td>\n",
       "      <td>wausau</td>\n",
       "      <td>17895</td>\n",
       "      <td>2018.0</td>\n",
       "      <td>hyundai</td>\n",
       "      <td>tucson</td>\n",
       "      <td>excellent</td>\n",
       "      <td>4 cylinders</td>\n",
       "      <td>gas</td>\n",
       "      <td>31888.0</td>\n",
       "      <td>clean</td>\n",
       "      <td>automatic</td>\n",
       "      <td>4wd</td>\n",
       "      <td>SUV</td>\n",
       "      <td>white</td>\n",
       "      <td>2018 Hyundai Tucson SE 2.0 I4 AWD.  Carfax ver...</td>\n",
       "      <td>wi</td>\n",
       "      <td>44.408867</td>\n",
       "      <td>-89.882240</td>\n",
       "      <td>2020-12-03T08:48:08-0600</td>\n",
       "    </tr>\n",
       "    <tr>\n",
       "      <td>7240645700</td>\n",
       "      <td>wyoming</td>\n",
       "      <td>17900</td>\n",
       "      <td>2014.0</td>\n",
       "      <td>cadillac</td>\n",
       "      <td>cts coupe awd</td>\n",
       "      <td>excellent</td>\n",
       "      <td>6 cylinders</td>\n",
       "      <td>gas</td>\n",
       "      <td>53000.0</td>\n",
       "      <td>clean</td>\n",
       "      <td>automatic</td>\n",
       "      <td>4wd</td>\n",
       "      <td>coupe</td>\n",
       "      <td>black</td>\n",
       "      <td>53,000 miles. Cosmetically, in near mint condi...</td>\n",
       "      <td>wy</td>\n",
       "      <td>44.784900</td>\n",
       "      <td>-106.964800</td>\n",
       "      <td>2020-12-02T14:09:45-0700</td>\n",
       "    </tr>\n",
       "    <tr>\n",
       "      <td>7240600465</td>\n",
       "      <td>wyoming</td>\n",
       "      <td>1300</td>\n",
       "      <td>2008.0</td>\n",
       "      <td>jeep</td>\n",
       "      <td>grand cherokee</td>\n",
       "      <td>good</td>\n",
       "      <td>8 cylinders</td>\n",
       "      <td>gas</td>\n",
       "      <td>164000.0</td>\n",
       "      <td>clean</td>\n",
       "      <td>automatic</td>\n",
       "      <td>4wd</td>\n",
       "      <td>SUV</td>\n",
       "      <td>white</td>\n",
       "      <td>PRICE REDUCTION  Turns out the engine is toast...</td>\n",
       "      <td>wy</td>\n",
       "      <td>44.773500</td>\n",
       "      <td>-106.939600</td>\n",
       "      <td>2020-12-02T13:01:04-0700</td>\n",
       "    </tr>\n",
       "    <tr>\n",
       "      <td>7240562359</td>\n",
       "      <td>wyoming</td>\n",
       "      <td>22900</td>\n",
       "      <td>2008.0</td>\n",
       "      <td>NaN</td>\n",
       "      <td>International 4300</td>\n",
       "      <td>NaN</td>\n",
       "      <td>NaN</td>\n",
       "      <td>diesel</td>\n",
       "      <td>164000.0</td>\n",
       "      <td>clean</td>\n",
       "      <td>automatic</td>\n",
       "      <td>NaN</td>\n",
       "      <td>NaN</td>\n",
       "      <td>NaN</td>\n",
       "      <td>*** SHIPPING AVAILABLE DIRECTLY TO YOU. CALL F...</td>\n",
       "      <td>wy</td>\n",
       "      <td>42.117656</td>\n",
       "      <td>-88.436954</td>\n",
       "      <td>2020-12-02T12:03:45-0700</td>\n",
       "    </tr>\n",
       "  </tbody>\n",
       "</table>\n",
       "<p>453308 rows × 19 columns</p>\n",
       "</div>"
      ],
      "text/plain": [
       "             region  price    year manufacturer                 model  \\\n",
       "id                                                                      \n",
       "7240372487   auburn  35990  2010.0    chevrolet  corvette grand sport   \n",
       "7240309422   auburn   7500  2014.0      hyundai                sonata   \n",
       "7240224296   auburn   4900  2006.0          bmw               x3 3.0i   \n",
       "7240103965   auburn   2000  1974.0    chevrolet                  c-10   \n",
       "7239983776   auburn  19500  2005.0         ford           f350 lariat   \n",
       "...             ...    ...     ...          ...                   ...   \n",
       "7240959076   wausau  14995  2014.0     cadillac                   srx   \n",
       "7240954682   wausau  17895  2018.0      hyundai                tucson   \n",
       "7240645700  wyoming  17900  2014.0     cadillac         cts coupe awd   \n",
       "7240600465  wyoming   1300  2008.0         jeep        grand cherokee   \n",
       "7240562359  wyoming  22900  2008.0          NaN    International 4300   \n",
       "\n",
       "            condition    cylinders    fuel  odometer title_status  \\\n",
       "id                                                                  \n",
       "7240372487       good  8 cylinders     gas   32742.0        clean   \n",
       "7240309422  excellent  4 cylinders     gas   93600.0        clean   \n",
       "7240224296       good  6 cylinders     gas   87046.0        clean   \n",
       "7240103965       good  4 cylinders     gas  190000.0        clean   \n",
       "7239983776  excellent  8 cylinders  diesel  116000.0         lien   \n",
       "...               ...          ...     ...       ...          ...   \n",
       "7240959076  excellent  6 cylinders     gas   83790.0        clean   \n",
       "7240954682  excellent  4 cylinders     gas   31888.0        clean   \n",
       "7240645700  excellent  6 cylinders     gas   53000.0        clean   \n",
       "7240600465       good  8 cylinders     gas  164000.0        clean   \n",
       "7240562359        NaN          NaN  diesel  164000.0        clean   \n",
       "\n",
       "           transmission drive    type paint_color  \\\n",
       "id                                                  \n",
       "7240372487        other   rwd   other         NaN   \n",
       "7240309422    automatic   fwd   sedan         NaN   \n",
       "7240224296    automatic   NaN     SUV        blue   \n",
       "7240103965    automatic   rwd  pickup        blue   \n",
       "7239983776    automatic   4wd  pickup        blue   \n",
       "...                 ...   ...     ...         ...   \n",
       "7240959076    automatic   4wd     SUV      silver   \n",
       "7240954682    automatic   4wd     SUV       white   \n",
       "7240645700    automatic   4wd   coupe       black   \n",
       "7240600465    automatic   4wd     SUV       white   \n",
       "7240562359    automatic   NaN     NaN         NaN   \n",
       "\n",
       "                                                  description state  \\\n",
       "id                                                                    \n",
       "7240372487  Carvana is the safer way to buy a car During t...    al   \n",
       "7240309422  I'll move to another city and try to sell my c...    al   \n",
       "7240224296  Clean 2006 BMW X3 3.0I.  Beautiful and rare Bl...    al   \n",
       "7240103965  1974 chev. truck (LONG BED) NEW starter front ...    al   \n",
       "7239983776  2005 Ford F350 Lariat (Bullet Proofed). This t...    al   \n",
       "...                                                       ...   ...   \n",
       "7240959076  2014 Cadillac SRX All Wheel Drive Luxury Colle...    wi   \n",
       "7240954682  2018 Hyundai Tucson SE 2.0 I4 AWD.  Carfax ver...    wi   \n",
       "7240645700  53,000 miles. Cosmetically, in near mint condi...    wy   \n",
       "7240600465  PRICE REDUCTION  Turns out the engine is toast...    wy   \n",
       "7240562359  *** SHIPPING AVAILABLE DIRECTLY TO YOU. CALL F...    wy   \n",
       "\n",
       "                  lat        long              posting_date  \n",
       "id                                                           \n",
       "7240372487  32.590000  -85.480000  2020-12-02T08:11:30-0600  \n",
       "7240309422  32.547500  -85.468200  2020-12-02T02:11:50-0600  \n",
       "7240224296  32.616807  -85.464149  2020-12-01T19:50:41-0600  \n",
       "7240103965  32.861600  -85.216100  2020-12-01T15:54:45-0600  \n",
       "7239983776  32.547500  -85.468200  2020-12-01T12:53:56-0600  \n",
       "...               ...         ...                       ...  \n",
       "7240959076  44.408867  -89.881210  2020-12-03T08:56:29-0600  \n",
       "7240954682  44.408867  -89.882240  2020-12-03T08:48:08-0600  \n",
       "7240645700  44.784900 -106.964800  2020-12-02T14:09:45-0700  \n",
       "7240600465  44.773500 -106.939600  2020-12-02T13:01:04-0700  \n",
       "7240562359  42.117656  -88.436954  2020-12-02T12:03:45-0700  \n",
       "\n",
       "[453308 rows x 19 columns]"
      ]
     },
     "execution_count": 21,
     "metadata": {},
     "output_type": "execute_result"
    }
   ],
   "source": [
    "df"
   ]
  },
  {
   "cell_type": "code",
   "execution_count": 22,
   "metadata": {},
   "outputs": [
    {
     "data": {
      "text/plain": [
       "posting_date    0.000061\n",
       "image_url       0.000061\n",
       "description     0.000153\n",
       "year            0.002292\n",
       "transmission    0.005329\n",
       "title_status    0.005624\n",
       "fuel            0.007064\n",
       "model           0.010576\n",
       "long            0.016254\n",
       "lat             0.016254\n",
       "manufacturer    0.039763\n",
       "odometer        0.120693\n",
       "type            0.246038\n",
       "drive           0.292851\n",
       "paint_color     0.307375\n",
       "cylinders       0.373494\n",
       "VIN             0.409305\n",
       "condition       0.421071\n",
       "size            0.701307\n",
       "dtype: float64"
      ]
     },
     "execution_count": 22,
     "metadata": {},
     "output_type": "execute_result"
    }
   ],
   "source": [
    "miss"
   ]
  },
  {
   "cell_type": "code",
   "execution_count": 23,
   "metadata": {},
   "outputs": [
    {
     "data": {
      "text/plain": [
       "Index(['manufacturer', 'condition', 'cylinders', 'fuel', 'odometer',\n",
       "       'title_status', 'transmission', 'drive', 'type', 'paint_color', 'lat',\n",
       "       'long'],\n",
       "      dtype='object')"
      ]
     },
     "execution_count": 23,
     "metadata": {},
     "output_type": "execute_result"
    }
   ],
   "source": [
    "df['year'].fillna(method='bfill', inplace=True)\n",
    "df.columns[df.isnull().any()]"
   ]
  },
  {
   "cell_type": "code",
   "execution_count": 24,
   "metadata": {},
   "outputs": [],
   "source": [
    "df['long'].fillna(method='bfill', inplace=True)\n",
    "df['lat'].fillna(method='bfill', inplace=True)"
   ]
  },
  {
   "cell_type": "code",
   "execution_count": 25,
   "metadata": {},
   "outputs": [
    {
     "data": {
      "text/plain": [
       "Index(['manufacturer', 'condition', 'cylinders', 'fuel', 'odometer',\n",
       "       'title_status', 'transmission', 'drive', 'type', 'paint_color'],\n",
       "      dtype='object')"
      ]
     },
     "execution_count": 25,
     "metadata": {},
     "output_type": "execute_result"
    }
   ],
   "source": [
    "df.columns[df.isnull().any()]"
   ]
  },
  {
   "cell_type": "code",
   "execution_count": 26,
   "metadata": {},
   "outputs": [],
   "source": [
    "odometer_mean = df['odometer'].mean()\n",
    "df['odometer'].fillna(value=odometer_mean, inplace=True)"
   ]
  },
  {
   "cell_type": "code",
   "execution_count": 27,
   "metadata": {},
   "outputs": [
    {
     "data": {
      "text/plain": [
       "Index(['manufacturer', 'condition', 'cylinders', 'fuel', 'title_status',\n",
       "       'transmission', 'drive', 'type', 'paint_color'],\n",
       "      dtype='object')"
      ]
     },
     "execution_count": 27,
     "metadata": {},
     "output_type": "execute_result"
    }
   ],
   "source": [
    "df.columns[df.isnull().any()]"
   ]
  },
  {
   "cell_type": "code",
   "execution_count": 28,
   "metadata": {},
   "outputs": [],
   "source": [
    "df.dropna(subset=['manufacturer', 'fuel', 'transmission', 'title_status'], inplace=True)"
   ]
  },
  {
   "cell_type": "code",
   "execution_count": 29,
   "metadata": {},
   "outputs": [
    {
     "data": {
      "text/plain": [
       "Index(['condition', 'cylinders', 'drive', 'type', 'paint_color'], dtype='object')"
      ]
     },
     "execution_count": 29,
     "metadata": {},
     "output_type": "execute_result"
    }
   ],
   "source": [
    "df.columns[df.isnull().any()]"
   ]
  },
  {
   "cell_type": "code",
   "execution_count": 30,
   "metadata": {},
   "outputs": [
    {
     "data": {
      "text/plain": [
       "Index(['condition', 'cylinders', 'drive', 'type', 'paint_color'], dtype='object')"
      ]
     },
     "execution_count": 30,
     "metadata": {},
     "output_type": "execute_result"
    }
   ],
   "source": [
    "df.columns[df.isnull().any()]"
   ]
  },
  {
   "cell_type": "code",
   "execution_count": 31,
   "metadata": {},
   "outputs": [],
   "source": [
    "df['condition'].fillna(method='bfill', inplace=True)"
   ]
  },
  {
   "cell_type": "code",
   "execution_count": 32,
   "metadata": {},
   "outputs": [
    {
     "data": {
      "text/plain": [
       "Index(['cylinders', 'drive', 'type', 'paint_color'], dtype='object')"
      ]
     },
     "execution_count": 32,
     "metadata": {},
     "output_type": "execute_result"
    }
   ],
   "source": [
    "df.columns[df.isnull().any()]"
   ]
  },
  {
   "cell_type": "code",
   "execution_count": 33,
   "metadata": {},
   "outputs": [],
   "source": [
    "df['type'].fillna(method='bfill', inplace=True)"
   ]
  },
  {
   "cell_type": "code",
   "execution_count": 34,
   "metadata": {},
   "outputs": [],
   "source": [
    "df['drive'].fillna(method='bfill', inplace=True)\n",
    "df['paint_color'].fillna(method='bfill', inplace=True)\n",
    "df['cylinders'].fillna(method='bfill', inplace=True)\n"
   ]
  },
  {
   "cell_type": "markdown",
   "metadata": {},
   "source": [
    "##Exploratory data analysis\n"
   ]
  },
  {
   "cell_type": "code",
   "execution_count": 42,
   "metadata": {},
   "outputs": [],
   "source": [
    "man_count = df['manufacturer'].value_counts()"
   ]
  },
  {
   "cell_type": "code",
   "execution_count": 44,
   "metadata": {},
   "outputs": [
    {
     "data": {
      "text/plain": [
       "ford               78010\n",
       "chevrolet          63365\n",
       "toyota             37773\n",
       "honda              25334\n",
       "nissan             23082\n",
       "jeep               20752\n",
       "gmc                16866\n",
       "ram                16485\n",
       "dodge              16369\n",
       "bmw                12181\n",
       "hyundai            10795\n",
       "mercedes-benz      10451\n",
       "volkswagen         10324\n",
       "subaru             10295\n",
       "kia                 8664\n",
       "chrysler            7385\n",
       "lexus               6961\n",
       "cadillac            6615\n",
       "buick               5914\n",
       "mazda               5838\n",
       "audi                5525\n",
       "acura               3920\n",
       "infiniti            3633\n",
       "lincoln             3287\n",
       "pontiac             2990\n",
       "volvo               2761\n",
       "mini                2284\n",
       "mitsubishi          2199\n",
       "porsche             1753\n",
       "mercury             1620\n",
       "rover               1361\n",
       "saturn              1344\n",
       "tesla               1050\n",
       "jaguar              1025\n",
       "fiat                 931\n",
       "alfa-romeo           184\n",
       "harley-davidson      113\n",
       "ferrari               93\n",
       "datsun                55\n",
       "aston-martin          34\n",
       "land rover            21\n",
       "morgan                 3\n",
       "Name: manufacturer, dtype: int64"
      ]
     },
     "execution_count": 44,
     "metadata": {},
     "output_type": "execute_result"
    }
   ],
   "source": [
    "man_count"
   ]
  },
  {
   "cell_type": "code",
   "execution_count": 45,
   "metadata": {},
   "outputs": [
    {
     "data": {
      "text/plain": [
       "<matplotlib.axes._subplots.AxesSubplot at 0x15dedef0c48>"
      ]
     },
     "execution_count": 45,
     "metadata": {},
     "output_type": "execute_result"
    },
    {
     "data": {
      "image/png": "[encoded data removed]",
      "text/plain": [
       "<Figure size 432x288 with 1 Axes>"
      ]
     },
     "metadata": {
      "needs_background": "light"
     },
     "output_type": "display_data"
    }
   ],
   "source": [
    "man_count.plot(kind='bar')"
   ]
  },
  {
   "cell_type": "code",
   "execution_count": 46,
   "metadata": {},
   "outputs": [
    {
     "data": {
      "text/html": [
       "<div>\n",
       "<style scoped>\n",
       "    .dataframe tbody tr th:only-of-type {\n",
       "        vertical-align: middle;\n",
       "    }\n",
       "\n",
       "    .dataframe tbody tr th {\n",
       "        vertical-align: top;\n",
       "    }\n",
       "\n",
       "    .dataframe thead th {\n",
       "        text-align: right;\n",
       "    }\n",
       "</style>\n",
       "<table border=\"1\" class=\"dataframe\">\n",
       "  <thead>\n",
       "    <tr style=\"text-align: right;\">\n",
       "      <th></th>\n",
       "      <th>region</th>\n",
       "      <th>price</th>\n",
       "      <th>year</th>\n",
       "      <th>manufacturer</th>\n",
       "      <th>model</th>\n",
       "      <th>condition</th>\n",
       "      <th>cylinders</th>\n",
       "      <th>fuel</th>\n",
       "      <th>odometer</th>\n",
       "      <th>title_status</th>\n",
       "      <th>transmission</th>\n",
       "      <th>drive</th>\n",
       "      <th>type</th>\n",
       "      <th>paint_color</th>\n",
       "      <th>description</th>\n",
       "      <th>state</th>\n",
       "      <th>lat</th>\n",
       "      <th>long</th>\n",
       "      <th>posting_date</th>\n",
       "    </tr>\n",
       "    <tr>\n",
       "      <th>id</th>\n",
       "      <th></th>\n",
       "      <th></th>\n",
       "      <th></th>\n",
       "      <th></th>\n",
       "      <th></th>\n",
       "      <th></th>\n",
       "      <th></th>\n",
       "      <th></th>\n",
       "      <th></th>\n",
       "      <th></th>\n",
       "      <th></th>\n",
       "      <th></th>\n",
       "      <th></th>\n",
       "      <th></th>\n",
       "      <th></th>\n",
       "      <th></th>\n",
       "      <th></th>\n",
       "      <th></th>\n",
       "      <th></th>\n",
       "    </tr>\n",
       "  </thead>\n",
       "  <tbody>\n",
       "    <tr>\n",
       "      <td>7240372487</td>\n",
       "      <td>auburn</td>\n",
       "      <td>35990</td>\n",
       "      <td>2010.0</td>\n",
       "      <td>chevrolet</td>\n",
       "      <td>corvette grand sport</td>\n",
       "      <td>good</td>\n",
       "      <td>8 cylinders</td>\n",
       "      <td>gas</td>\n",
       "      <td>32742.0</td>\n",
       "      <td>clean</td>\n",
       "      <td>other</td>\n",
       "      <td>rwd</td>\n",
       "      <td>other</td>\n",
       "      <td>blue</td>\n",
       "      <td>Carvana is the safer way to buy a car During t...</td>\n",
       "      <td>al</td>\n",
       "      <td>32.590000</td>\n",
       "      <td>-85.480000</td>\n",
       "      <td>2020-12-02T08:11:30-0600</td>\n",
       "    </tr>\n",
       "    <tr>\n",
       "      <td>7240309422</td>\n",
       "      <td>auburn</td>\n",
       "      <td>7500</td>\n",
       "      <td>2014.0</td>\n",
       "      <td>hyundai</td>\n",
       "      <td>sonata</td>\n",
       "      <td>excellent</td>\n",
       "      <td>4 cylinders</td>\n",
       "      <td>gas</td>\n",
       "      <td>93600.0</td>\n",
       "      <td>clean</td>\n",
       "      <td>automatic</td>\n",
       "      <td>fwd</td>\n",
       "      <td>sedan</td>\n",
       "      <td>blue</td>\n",
       "      <td>I'll move to another city and try to sell my c...</td>\n",
       "      <td>al</td>\n",
       "      <td>32.547500</td>\n",
       "      <td>-85.468200</td>\n",
       "      <td>2020-12-02T02:11:50-0600</td>\n",
       "    </tr>\n",
       "    <tr>\n",
       "      <td>7240224296</td>\n",
       "      <td>auburn</td>\n",
       "      <td>4900</td>\n",
       "      <td>2006.0</td>\n",
       "      <td>bmw</td>\n",
       "      <td>x3 3.0i</td>\n",
       "      <td>good</td>\n",
       "      <td>6 cylinders</td>\n",
       "      <td>gas</td>\n",
       "      <td>87046.0</td>\n",
       "      <td>clean</td>\n",
       "      <td>automatic</td>\n",
       "      <td>rwd</td>\n",
       "      <td>SUV</td>\n",
       "      <td>blue</td>\n",
       "      <td>Clean 2006 BMW X3 3.0I.  Beautiful and rare Bl...</td>\n",
       "      <td>al</td>\n",
       "      <td>32.616807</td>\n",
       "      <td>-85.464149</td>\n",
       "      <td>2020-12-01T19:50:41-0600</td>\n",
       "    </tr>\n",
       "    <tr>\n",
       "      <td>7240103965</td>\n",
       "      <td>auburn</td>\n",
       "      <td>2000</td>\n",
       "      <td>1974.0</td>\n",
       "      <td>chevrolet</td>\n",
       "      <td>c-10</td>\n",
       "      <td>good</td>\n",
       "      <td>4 cylinders</td>\n",
       "      <td>gas</td>\n",
       "      <td>190000.0</td>\n",
       "      <td>clean</td>\n",
       "      <td>automatic</td>\n",
       "      <td>rwd</td>\n",
       "      <td>pickup</td>\n",
       "      <td>blue</td>\n",
       "      <td>1974 chev. truck (LONG BED) NEW starter front ...</td>\n",
       "      <td>al</td>\n",
       "      <td>32.861600</td>\n",
       "      <td>-85.216100</td>\n",
       "      <td>2020-12-01T15:54:45-0600</td>\n",
       "    </tr>\n",
       "    <tr>\n",
       "      <td>7239983776</td>\n",
       "      <td>auburn</td>\n",
       "      <td>19500</td>\n",
       "      <td>2005.0</td>\n",
       "      <td>ford</td>\n",
       "      <td>f350 lariat</td>\n",
       "      <td>excellent</td>\n",
       "      <td>8 cylinders</td>\n",
       "      <td>diesel</td>\n",
       "      <td>116000.0</td>\n",
       "      <td>lien</td>\n",
       "      <td>automatic</td>\n",
       "      <td>4wd</td>\n",
       "      <td>pickup</td>\n",
       "      <td>blue</td>\n",
       "      <td>2005 Ford F350 Lariat (Bullet Proofed). This t...</td>\n",
       "      <td>al</td>\n",
       "      <td>32.547500</td>\n",
       "      <td>-85.468200</td>\n",
       "      <td>2020-12-01T12:53:56-0600</td>\n",
       "    </tr>\n",
       "    <tr>\n",
       "      <td>...</td>\n",
       "      <td>...</td>\n",
       "      <td>...</td>\n",
       "      <td>...</td>\n",
       "      <td>...</td>\n",
       "      <td>...</td>\n",
       "      <td>...</td>\n",
       "      <td>...</td>\n",
       "      <td>...</td>\n",
       "      <td>...</td>\n",
       "      <td>...</td>\n",
       "      <td>...</td>\n",
       "      <td>...</td>\n",
       "      <td>...</td>\n",
       "      <td>...</td>\n",
       "      <td>...</td>\n",
       "      <td>...</td>\n",
       "      <td>...</td>\n",
       "      <td>...</td>\n",
       "      <td>...</td>\n",
       "    </tr>\n",
       "    <tr>\n",
       "      <td>7234563718</td>\n",
       "      <td>palm springs</td>\n",
       "      <td>6200</td>\n",
       "      <td>2010.0</td>\n",
       "      <td>aston-martin</td>\n",
       "      <td>martin</td>\n",
       "      <td>like new</td>\n",
       "      <td>other</td>\n",
       "      <td>electric</td>\n",
       "      <td>10.0</td>\n",
       "      <td>clean</td>\n",
       "      <td>other</td>\n",
       "      <td>4wd</td>\n",
       "      <td>convertible</td>\n",
       "      <td>green</td>\n",
       "      <td>Amazing.Beautiful.Like New.Dark Green/Tan Clot...</td>\n",
       "      <td>ca</td>\n",
       "      <td>33.764400</td>\n",
       "      <td>-116.339800</td>\n",
       "      <td>2020-11-20T22:36:06-0800</td>\n",
       "    </tr>\n",
       "    <tr>\n",
       "      <td>7236345144</td>\n",
       "      <td>reno / tahoe</td>\n",
       "      <td>6500</td>\n",
       "      <td>2005.0</td>\n",
       "      <td>land rover</td>\n",
       "      <td>lr3</td>\n",
       "      <td>good</td>\n",
       "      <td>8 cylinders</td>\n",
       "      <td>gas</td>\n",
       "      <td>122000.0</td>\n",
       "      <td>rebuilt</td>\n",
       "      <td>automatic</td>\n",
       "      <td>4wd</td>\n",
       "      <td>SUV</td>\n",
       "      <td>green</td>\n",
       "      <td>2005 Land Rover LR3 Have done tons and tons of...</td>\n",
       "      <td>ca</td>\n",
       "      <td>39.135500</td>\n",
       "      <td>-119.758800</td>\n",
       "      <td>2020-11-24T09:21:10-0800</td>\n",
       "    </tr>\n",
       "    <tr>\n",
       "      <td>7234803950</td>\n",
       "      <td>ft myers / SW florida</td>\n",
       "      <td>74977</td>\n",
       "      <td>2002.0</td>\n",
       "      <td>morgan</td>\n",
       "      <td>plus 8</td>\n",
       "      <td>excellent</td>\n",
       "      <td>8 cylinders</td>\n",
       "      <td>gas</td>\n",
       "      <td>2379.0</td>\n",
       "      <td>clean</td>\n",
       "      <td>manual</td>\n",
       "      <td>rwd</td>\n",
       "      <td>convertible</td>\n",
       "      <td>silver</td>\n",
       "      <td>2002 *** Morgan Plus 8  ***    Ready To Upgrad...</td>\n",
       "      <td>fl</td>\n",
       "      <td>26.138866</td>\n",
       "      <td>-81.768849</td>\n",
       "      <td>2020-11-21T13:31:12-0500</td>\n",
       "    </tr>\n",
       "    <tr>\n",
       "      <td>7234835813</td>\n",
       "      <td>sarasota-bradenton</td>\n",
       "      <td>74977</td>\n",
       "      <td>2002.0</td>\n",
       "      <td>morgan</td>\n",
       "      <td>plus 8</td>\n",
       "      <td>excellent</td>\n",
       "      <td>8 cylinders</td>\n",
       "      <td>gas</td>\n",
       "      <td>2379.0</td>\n",
       "      <td>clean</td>\n",
       "      <td>manual</td>\n",
       "      <td>rwd</td>\n",
       "      <td>sedan</td>\n",
       "      <td>silver</td>\n",
       "      <td>2002 *** Morgan Plus 8  ***    Ready To Upgrad...</td>\n",
       "      <td>fl</td>\n",
       "      <td>26.138866</td>\n",
       "      <td>-81.768849</td>\n",
       "      <td>2020-11-21T14:15:33-0500</td>\n",
       "    </tr>\n",
       "    <tr>\n",
       "      <td>7229998561</td>\n",
       "      <td>treasure coast</td>\n",
       "      <td>93000</td>\n",
       "      <td>2019.0</td>\n",
       "      <td>morgan</td>\n",
       "      <td>roadster untitled</td>\n",
       "      <td>good</td>\n",
       "      <td>8 cylinders</td>\n",
       "      <td>other</td>\n",
       "      <td>138.0</td>\n",
       "      <td>clean</td>\n",
       "      <td>manual</td>\n",
       "      <td>rwd</td>\n",
       "      <td>other</td>\n",
       "      <td>green</td>\n",
       "      <td>Why Buy From Sutherlin Nissan Vero Beach?At ou...</td>\n",
       "      <td>fl</td>\n",
       "      <td>27.585425</td>\n",
       "      <td>-80.376394</td>\n",
       "      <td>2020-11-12T18:58:14-0500</td>\n",
       "    </tr>\n",
       "  </tbody>\n",
       "</table>\n",
       "<p>208 rows × 19 columns</p>\n",
       "</div>"
      ],
      "text/plain": [
       "                           region  price    year  manufacturer  \\\n",
       "id                                                               \n",
       "7240372487                 auburn  35990  2010.0     chevrolet   \n",
       "7240309422                 auburn   7500  2014.0       hyundai   \n",
       "7240224296                 auburn   4900  2006.0           bmw   \n",
       "7240103965                 auburn   2000  1974.0     chevrolet   \n",
       "7239983776                 auburn  19500  2005.0          ford   \n",
       "...                           ...    ...     ...           ...   \n",
       "7234563718           palm springs   6200  2010.0  aston-martin   \n",
       "7236345144           reno / tahoe   6500  2005.0    land rover   \n",
       "7234803950  ft myers / SW florida  74977  2002.0        morgan   \n",
       "7234835813     sarasota-bradenton  74977  2002.0        morgan   \n",
       "7229998561         treasure coast  93000  2019.0        morgan   \n",
       "\n",
       "                           model  condition    cylinders      fuel  odometer  \\\n",
       "id                                                                             \n",
       "7240372487  corvette grand sport       good  8 cylinders       gas   32742.0   \n",
       "7240309422                sonata  excellent  4 cylinders       gas   93600.0   \n",
       "7240224296               x3 3.0i       good  6 cylinders       gas   87046.0   \n",
       "7240103965                  c-10       good  4 cylinders       gas  190000.0   \n",
       "7239983776           f350 lariat  excellent  8 cylinders    diesel  116000.0   \n",
       "...                          ...        ...          ...       ...       ...   \n",
       "7234563718                martin   like new        other  electric      10.0   \n",
       "7236345144                   lr3       good  8 cylinders       gas  122000.0   \n",
       "7234803950                plus 8  excellent  8 cylinders       gas    2379.0   \n",
       "7234835813                plus 8  excellent  8 cylinders       gas    2379.0   \n",
       "7229998561     roadster untitled       good  8 cylinders     other     138.0   \n",
       "\n",
       "           title_status transmission drive         type paint_color  \\\n",
       "id                                                                    \n",
       "7240372487        clean        other   rwd        other        blue   \n",
       "7240309422        clean    automatic   fwd        sedan        blue   \n",
       "7240224296        clean    automatic   rwd          SUV        blue   \n",
       "7240103965        clean    automatic   rwd       pickup        blue   \n",
       "7239983776         lien    automatic   4wd       pickup        blue   \n",
       "...                 ...          ...   ...          ...         ...   \n",
       "7234563718        clean        other   4wd  convertible       green   \n",
       "7236345144      rebuilt    automatic   4wd          SUV       green   \n",
       "7234803950        clean       manual   rwd  convertible      silver   \n",
       "7234835813        clean       manual   rwd        sedan      silver   \n",
       "7229998561        clean       manual   rwd        other       green   \n",
       "\n",
       "                                                  description state  \\\n",
       "id                                                                    \n",
       "7240372487  Carvana is the safer way to buy a car During t...    al   \n",
       "7240309422  I'll move to another city and try to sell my c...    al   \n",
       "7240224296  Clean 2006 BMW X3 3.0I.  Beautiful and rare Bl...    al   \n",
       "7240103965  1974 chev. truck (LONG BED) NEW starter front ...    al   \n",
       "7239983776  2005 Ford F350 Lariat (Bullet Proofed). This t...    al   \n",
       "...                                                       ...   ...   \n",
       "7234563718  Amazing.Beautiful.Like New.Dark Green/Tan Clot...    ca   \n",
       "7236345144  2005 Land Rover LR3 Have done tons and tons of...    ca   \n",
       "7234803950  2002 *** Morgan Plus 8  ***    Ready To Upgrad...    fl   \n",
       "7234835813  2002 *** Morgan Plus 8  ***    Ready To Upgrad...    fl   \n",
       "7229998561  Why Buy From Sutherlin Nissan Vero Beach?At ou...    fl   \n",
       "\n",
       "                  lat        long              posting_date  \n",
       "id                                                           \n",
       "7240372487  32.590000  -85.480000  2020-12-02T08:11:30-0600  \n",
       "7240309422  32.547500  -85.468200  2020-12-02T02:11:50-0600  \n",
       "7240224296  32.616807  -85.464149  2020-12-01T19:50:41-0600  \n",
       "7240103965  32.861600  -85.216100  2020-12-01T15:54:45-0600  \n",
       "7239983776  32.547500  -85.468200  2020-12-01T12:53:56-0600  \n",
       "...               ...         ...                       ...  \n",
       "7234563718  33.764400 -116.339800  2020-11-20T22:36:06-0800  \n",
       "7236345144  39.135500 -119.758800  2020-11-24T09:21:10-0800  \n",
       "7234803950  26.138866  -81.768849  2020-11-21T13:31:12-0500  \n",
       "7234835813  26.138866  -81.768849  2020-11-21T14:15:33-0500  \n",
       "7229998561  27.585425  -80.376394  2020-11-12T18:58:14-0500  \n",
       "\n",
       "[208 rows x 19 columns]"
      ]
     },
     "execution_count": 46,
     "metadata": {},
     "output_type": "execute_result"
    }
   ],
   "source": [
    "manu_by = df.groupby(['manufacturer'])\n",
    "manu_by.head()"
   ]
  },
  {
   "cell_type": "code",
   "execution_count": 47,
   "metadata": {},
   "outputs": [
    {
     "data": {
      "text/plain": [
       "manufacturer\n",
       "acura              [rdx tech pkg, tl, rsx, mdx, tlx, rdx, rdx tec...\n",
       "alfa-romeo         [romeo spider quadrifoglio, romeo giulia quadr...\n",
       "aston-martin       [martin vanquish, martin vantage, martin db7, ...\n",
       "audi               [a3 tdi premium plus, q8 prestige, a4, q5, a5 ...\n",
       "bmw                [x3 3.0i, m3 coupe 2d, 528i xdrive, m3 convert...\n",
       "buick              [lucerne, cascada premium, regal cxl, lacrosse...\n",
       "cadillac           [xts, srx, cts cts-v coupe 2d, cts, dts, srx p...\n",
       "chevrolet          [corvette grand sport, c-10, camaro zl1 coupe ...\n",
       "chrysler           [town and country, 300, town & country lwb, to...\n",
       "datsun             [280zx, 280z 2+2, roadster, truck, 280z, 720, ...\n",
       "dodge              [grand caravan, challenger, journey, charger, ...\n",
       "ferrari            [488 spider, f12 cpe, 488 gtb, 360 modena, f43...\n",
       "fiat               [500l, 500l lounge, 500 l, 500c, 500, 500 loun...\n",
       "ford               [f350 lariat, mustang shelby gt500 coupe, tran...\n",
       "gmc                [sierra 2500hd, terrain, sierra 3500, yukon, 1...\n",
       "harley-davidson    [street bob, slim, roadster, electra glide, st...\n",
       "honda              [civic lx sedan 4d, civic lx, odyssey, accord ...\n",
       "hyundai            [sonata, tucson, tucson se, elantra, sonata gl...\n",
       "infiniti           [q60 3.0t premium coupe, qx56, q70, q50, g35 s...\n",
       "jaguar             [x-type, s-type, xj6, xj, f-pace, f-type s con...\n",
       "jeep               [wrangler unlimited sport s, gladiator, wrangl...\n",
       "kia                [forte, rio, forte sx, optima ex, sedona, opti...\n",
       "land rover         [discovery sport, discovery, lr3, lr2, freelan...\n",
       "lexus              [nx 300 f sport, is 250 sport sedan 4d, rx350,...\n",
       "lincoln            [town car, towncar, mkx, mkx awd, ls, mkz, nav...\n",
       "mazda              [mazda3, rx-8, cx-9, 3, mx-5 miata club, 5, mx...\n",
       "mercedes-benz      [cla 250, benz c300 4matic, benz c300, ml350, ...\n",
       "mercury            [monterey, caliente, mariner, montclair, sable...\n",
       "mini               [countryman, cooper countryman, cooper, t camp...\n",
       "mitsubishi         [fuso fe180, fuso, lancer, raider, i-miev, mir...\n",
       "morgan                                   [plus 8, roadster untitled]\n",
       "nissan             [sentra, maxima, juke, altima sl, titan sv, 37...\n",
       "pontiac            [grand prix, grand am se, gto, tempest, firebi...\n",
       "porsche            [cayenne sport utility 4d, boxster, panamera s...\n",
       "ram                [1500 crew cab slt pickup 4d, 1500 quad cab bi...\n",
       "rover              [lr2, discovery se, discovery, evoqu, sport, e...\n",
       "saturn             [aura, sky, sl, l300, vue, sl2, ion, relay, vu...\n",
       "subaru             [outback, impreza, legacy, outback 2.5xt wagon...\n",
       "tesla              [model 3 long range sedan, model 3 mid range s...\n",
       "toyota             [tacoma double cab sr5, t100 4x4, camry, prius...\n",
       "volkswagen         [golf tdi hatchback 4d, passat tdi, jetta, bus...\n",
       "volvo              [s60, vnl 780, s80, xc60, xc70, xc90, xc60 t5 ...\n",
       "Name: model, dtype: object"
      ]
     },
     "execution_count": 47,
     "metadata": {},
     "output_type": "execute_result"
    }
   ],
   "source": [
    "manu_by['model'].unique()"
   ]
  },
  {
   "cell_type": "code",
   "execution_count": 48,
   "metadata": {},
   "outputs": [
    {
     "data": {
      "text/plain": [
       "manufacturer\n",
       "acura               10802.682143\n",
       "alfa-romeo          22564.103261\n",
       "aston-martin        51337.617647\n",
       "audi                18933.521810\n",
       "bmw                 17053.491421\n",
       "buick                9805.873013\n",
       "cadillac            17711.182162\n",
       "chevrolet           16213.121676\n",
       "chrysler             8710.741503\n",
       "datsun              12749.327273\n",
       "dodge               12526.411876\n",
       "ferrari            140123.118280\n",
       "fiat                10326.479055\n",
       "ford                16454.523715\n",
       "gmc                 20388.724120\n",
       "harley-davidson     12958.929204\n",
       "honda                9403.550249\n",
       "hyundai              8341.733488\n",
       "infiniti            14048.944674\n",
       "jaguar              19628.263415\n",
       "jeep                17343.632903\n",
       "kia                  9453.475185\n",
       "land rover          12505.571429\n",
       "lexus               16036.182876\n",
       "lincoln             12688.147551\n",
       "mazda               10017.869476\n",
       "mercedes-benz       19052.866520\n",
       "mercury              4542.711111\n",
       "mini                11543.363835\n",
       "mitsubishi           9360.032742\n",
       "morgan              80984.666667\n",
       "nissan              10317.577940\n",
       "pontiac              6854.634114\n",
       "porsche             33196.977182\n",
       "ram                 24332.732666\n",
       "rover               25479.586334\n",
       "saturn               3687.856399\n",
       "subaru              12513.588538\n",
       "tesla               40292.423810\n",
       "toyota              13924.296667\n",
       "volkswagen          10323.854417\n",
       "volvo               11370.137993\n",
       "Name: price, dtype: float64"
      ]
     },
     "execution_count": 48,
     "metadata": {},
     "output_type": "execute_result"
    }
   ],
   "source": [
    "manu_by['price'].mean()"
   ]
  },
  {
   "cell_type": "code",
   "execution_count": 49,
   "metadata": {},
   "outputs": [
    {
     "data": {
      "text/plain": [
       "<matplotlib.axes._subplots.AxesSubplot at 0x15dbe662948>"
      ]
     },
     "execution_count": 49,
     "metadata": {},
     "output_type": "execute_result"
    },
    {
     "data": {
      "image/png": "[encoded data removed]",
      "text/plain": [
       "<Figure size 432x288 with 1 Axes>"
      ]
     },
     "metadata": {
      "needs_background": "light"
     },
     "output_type": "display_data"
    }
   ],
   "source": [
    "manu_by['price'].mean().plot(kind='bar')"
   ]
  },
  {
   "cell_type": "code",
   "execution_count": 50,
   "metadata": {},
   "outputs": [
    {
     "data": {
      "text/plain": [
       "3687.856398809524"
      ]
     },
     "execution_count": 50,
     "metadata": {},
     "output_type": "execute_result"
    }
   ],
   "source": [
    "manu_by['price'].mean().min()"
   ]
  },
  {
   "cell_type": "code",
   "execution_count": 51,
   "metadata": {},
   "outputs": [
    {
     "data": {
      "text/plain": [
       "140123.1182795699"
      ]
     },
     "execution_count": 51,
     "metadata": {},
     "output_type": "execute_result"
    }
   ],
   "source": [
    "manu_by['price'].mean().max()"
   ]
  },
  {
   "cell_type": "code",
   "execution_count": 52,
   "metadata": {},
   "outputs": [
    {
     "data": {
      "text/plain": [
       "array(['other', 'sedan', 'SUV', 'pickup', 'coupe', 'van', 'truck',\n",
       "       'mini-van', 'wagon', 'convertible', 'hatchback', 'offroad', 'bus'],\n",
       "      dtype=object)"
      ]
     },
     "execution_count": 52,
     "metadata": {},
     "output_type": "execute_result"
    }
   ],
   "source": [
    "df['type'].unique()"
   ]
  },
  {
   "cell_type": "code",
   "execution_count": 53,
   "metadata": {},
   "outputs": [
    {
     "data": {
      "text/plain": [
       "sedan          116566\n",
       "SUV            101201\n",
       "pickup          53939\n",
       "truck           43034\n",
       "other           28245\n",
       "coupe           23456\n",
       "hatchback       20320\n",
       "wagon           12779\n",
       "van             12112\n",
       "convertible      8299\n",
       "mini-van         8242\n",
       "offroad           841\n",
       "bus               611\n",
       "Name: type, dtype: int64"
      ]
     },
     "execution_count": 53,
     "metadata": {},
     "output_type": "execute_result"
    }
   ],
   "source": [
    "df['type'].value_counts()"
   ]
  },
  {
   "cell_type": "code",
   "execution_count": 54,
   "metadata": {},
   "outputs": [
    {
     "data": {
      "text/plain": [
       "type\n",
       "SUV            13617.940633\n",
       "bus            15403.417349\n",
       "convertible    16240.260995\n",
       "coupe          17637.463080\n",
       "hatchback      11029.595276\n",
       "mini-van        9601.561757\n",
       "offroad        15676.214031\n",
       "other          19370.113932\n",
       "pickup         22364.335916\n",
       "sedan          10921.967589\n",
       "truck          18200.117581\n",
       "van            14208.336030\n",
       "wagon          11744.900540\n",
       "Name: price, dtype: float64"
      ]
     },
     "execution_count": 54,
     "metadata": {},
     "output_type": "execute_result"
    }
   ],
   "source": [
    "type_by = df.groupby(['type'])\n",
    "type_by['price'].mean()"
   ]
  },
  {
   "cell_type": "code",
   "execution_count": 55,
   "metadata": {},
   "outputs": [
    {
     "data": {
      "text/plain": [
       "type\n",
       "SUV            13617.940633\n",
       "bus            15403.417349\n",
       "convertible    16240.260995\n",
       "coupe          17637.463080\n",
       "hatchback      11029.595276\n",
       "mini-van        9601.561757\n",
       "offroad        15676.214031\n",
       "other          19370.113932\n",
       "pickup         22364.335916\n",
       "sedan          10921.967589\n",
       "truck          18200.117581\n",
       "van            14208.336030\n",
       "wagon          11744.900540\n",
       "Name: price, dtype: float64"
      ]
     },
     "execution_count": 55,
     "metadata": {},
     "output_type": "execute_result"
    }
   ],
   "source": [
    "type_by['price'].mean()"
   ]
  },
  {
   "cell_type": "code",
   "execution_count": 56,
   "metadata": {},
   "outputs": [
    {
     "data": {
      "text/plain": [
       "<matplotlib.axes._subplots.AxesSubplot at 0x15dcc17f908>"
      ]
     },
     "execution_count": 56,
     "metadata": {},
     "output_type": "execute_result"
    },
    {
     "data": {
      "image/png": "[encoded data removed]",
      "text/plain": [
       "<Figure size 432x288 with 1 Axes>"
      ]
     },
     "metadata": {},
     "output_type": "display_data"
    }
   ],
   "source": [
    "type_by['price'].mean().plot(kind='pie')"
   ]
  },
  {
   "cell_type": "code",
   "execution_count": 57,
   "metadata": {},
   "outputs": [
    {
     "data": {
      "text/plain": [
       "manufacturer  model                 \n",
       "acura         2.2l                       1200.000000\n",
       "              2.3cl                      3499.000000\n",
       "              2015 rdx                  13992.000000\n",
       "              3.0                        2200.000000\n",
       "              3.0 cl                     2397.500000\n",
       "                                            ...     \n",
       "volvo         xc90 t6 momentum sport    49062.727273\n",
       "              xc90 t6 r-design              0.000000\n",
       "              xc90 v8                    4001.000000\n",
       "              xc90 v8 sport awd          5495.000000\n",
       "              xc90t6 momentum awd       26700.000000\n",
       "Name: price, Length: 24681, dtype: float64"
      ]
     },
     "execution_count": 57,
     "metadata": {},
     "output_type": "execute_result"
    }
   ],
   "source": [
    "manu_model_by = df.groupby(['manufacturer', 'model'])\n",
    "manu_model_by['price'].mean()"
   ]
  },
  {
   "cell_type": "code",
   "execution_count": 58,
   "metadata": {},
   "outputs": [
    {
     "data": {
      "text/plain": [
       "f-150                    8258\n",
       "silverado 1500           5893\n",
       "1500                     4162\n",
       "camry                    3994\n",
       "accord                   3696\n",
       "                         ... \n",
       "xts livery                  1\n",
       "passat cc r-line            1\n",
       "camry - se                  1\n",
       "328xi x drive               1\n",
       "elantra sel ivt sulev       1\n",
       "Name: model, Length: 24236, dtype: int64"
      ]
     },
     "execution_count": 58,
     "metadata": {},
     "output_type": "execute_result"
    }
   ],
   "source": [
    "df['model'].value_counts()"
   ]
  },
  {
   "cell_type": "code",
   "execution_count": 59,
   "metadata": {},
   "outputs": [
    {
     "data": {
      "text/plain": [
       "(0, 15000]            236047\n",
       "(15000, 30000]        108166\n",
       "(30000, 100000]        54203\n",
       "(100000, 200000]         278\n",
       "(200000, 500000]          48\n",
       "(1000000, 1400000]        12\n",
       "(500000, 1000000]          8\n",
       "(5000000, 7900000]         1\n",
       "(2500000, 5000000]         1\n",
       "(2000000, 2500000]         1\n",
       "(1400000, 2000000]         0\n",
       "Name: price, dtype: int64"
      ]
     },
     "execution_count": 59,
     "metadata": {},
     "output_type": "execute_result"
    }
   ],
   "source": [
    "pd.cut(df['price'], bins=[0,15000,30000,100000,200000,500000,1000000,1400000,2000000,2500000,5000000,7900000]).value_counts()"
   ]
  },
  {
   "cell_type": "code",
   "execution_count": 60,
   "metadata": {},
   "outputs": [
    {
     "data": {
      "text/plain": [
       "<matplotlib.axes._subplots.AxesSubplot at 0x15dcc17ff48>"
      ]
     },
     "execution_count": 60,
     "metadata": {},
     "output_type": "execute_result"
    },
    {
     "data": {
      "image/png": "[encoded data removed]",
      "text/plain": [
       "<Figure size 432x288 with 1 Axes>"
      ]
     },
     "metadata": {
      "needs_background": "light"
     },
     "output_type": "display_data"
    }
   ],
   "source": [
    "pd.cut(df['price'], bins=[0,15000,30000,100000,200000,500000,1000000,1400000,2000000,2500000,5000000,7900000]).value_counts().plot(kind='bar')"
   ]
  },
  {
   "cell_type": "code",
   "execution_count": 61,
   "metadata": {},
   "outputs": [
    {
     "data": {
      "text/plain": [
       "excellent    189233\n",
       "good         181318\n",
       "like new      41045\n",
       "fair          14529\n",
       "new            2175\n",
       "salvage        1345\n",
       "Name: condition, dtype: int64"
      ]
     },
     "execution_count": 61,
     "metadata": {},
     "output_type": "execute_result"
    }
   ],
   "source": [
    "df['condition'].value_counts()\n"
   ]
  },
  {
   "cell_type": "code",
   "execution_count": 62,
   "metadata": {},
   "outputs": [
    {
     "data": {
      "text/html": [
       "<div>\n",
       "<style scoped>\n",
       "    .dataframe tbody tr th:only-of-type {\n",
       "        vertical-align: middle;\n",
       "    }\n",
       "\n",
       "    .dataframe tbody tr th {\n",
       "        vertical-align: top;\n",
       "    }\n",
       "\n",
       "    .dataframe thead th {\n",
       "        text-align: right;\n",
       "    }\n",
       "</style>\n",
       "<table border=\"1\" class=\"dataframe\">\n",
       "  <thead>\n",
       "    <tr style=\"text-align: right;\">\n",
       "      <th></th>\n",
       "      <th>region</th>\n",
       "      <th>price</th>\n",
       "      <th>year</th>\n",
       "      <th>manufacturer</th>\n",
       "      <th>model</th>\n",
       "      <th>condition</th>\n",
       "      <th>cylinders</th>\n",
       "      <th>fuel</th>\n",
       "      <th>odometer</th>\n",
       "      <th>title_status</th>\n",
       "      <th>transmission</th>\n",
       "      <th>drive</th>\n",
       "      <th>type</th>\n",
       "      <th>paint_color</th>\n",
       "      <th>description</th>\n",
       "      <th>state</th>\n",
       "      <th>lat</th>\n",
       "      <th>long</th>\n",
       "      <th>posting_date</th>\n",
       "    </tr>\n",
       "    <tr>\n",
       "      <th>id</th>\n",
       "      <th></th>\n",
       "      <th></th>\n",
       "      <th></th>\n",
       "      <th></th>\n",
       "      <th></th>\n",
       "      <th></th>\n",
       "      <th></th>\n",
       "      <th></th>\n",
       "      <th></th>\n",
       "      <th></th>\n",
       "      <th></th>\n",
       "      <th></th>\n",
       "      <th></th>\n",
       "      <th></th>\n",
       "      <th></th>\n",
       "      <th></th>\n",
       "      <th></th>\n",
       "      <th></th>\n",
       "      <th></th>\n",
       "    </tr>\n",
       "  </thead>\n",
       "  <tbody>\n",
       "    <tr>\n",
       "      <td>7240372487</td>\n",
       "      <td>auburn</td>\n",
       "      <td>35990</td>\n",
       "      <td>2010.0</td>\n",
       "      <td>chevrolet</td>\n",
       "      <td>corvette grand sport</td>\n",
       "      <td>good</td>\n",
       "      <td>8 cylinders</td>\n",
       "      <td>gas</td>\n",
       "      <td>32742.0</td>\n",
       "      <td>clean</td>\n",
       "      <td>other</td>\n",
       "      <td>rwd</td>\n",
       "      <td>other</td>\n",
       "      <td>blue</td>\n",
       "      <td>Carvana is the safer way to buy a car During t...</td>\n",
       "      <td>al</td>\n",
       "      <td>32.590000</td>\n",
       "      <td>-85.480000</td>\n",
       "      <td>2020-12-02T08:11:30-0600</td>\n",
       "    </tr>\n",
       "    <tr>\n",
       "      <td>7240309422</td>\n",
       "      <td>auburn</td>\n",
       "      <td>7500</td>\n",
       "      <td>2014.0</td>\n",
       "      <td>hyundai</td>\n",
       "      <td>sonata</td>\n",
       "      <td>excellent</td>\n",
       "      <td>4 cylinders</td>\n",
       "      <td>gas</td>\n",
       "      <td>93600.0</td>\n",
       "      <td>clean</td>\n",
       "      <td>automatic</td>\n",
       "      <td>fwd</td>\n",
       "      <td>sedan</td>\n",
       "      <td>blue</td>\n",
       "      <td>I'll move to another city and try to sell my c...</td>\n",
       "      <td>al</td>\n",
       "      <td>32.547500</td>\n",
       "      <td>-85.468200</td>\n",
       "      <td>2020-12-02T02:11:50-0600</td>\n",
       "    </tr>\n",
       "    <tr>\n",
       "      <td>7240224296</td>\n",
       "      <td>auburn</td>\n",
       "      <td>4900</td>\n",
       "      <td>2006.0</td>\n",
       "      <td>bmw</td>\n",
       "      <td>x3 3.0i</td>\n",
       "      <td>good</td>\n",
       "      <td>6 cylinders</td>\n",
       "      <td>gas</td>\n",
       "      <td>87046.0</td>\n",
       "      <td>clean</td>\n",
       "      <td>automatic</td>\n",
       "      <td>rwd</td>\n",
       "      <td>SUV</td>\n",
       "      <td>blue</td>\n",
       "      <td>Clean 2006 BMW X3 3.0I.  Beautiful and rare Bl...</td>\n",
       "      <td>al</td>\n",
       "      <td>32.616807</td>\n",
       "      <td>-85.464149</td>\n",
       "      <td>2020-12-01T19:50:41-0600</td>\n",
       "    </tr>\n",
       "    <tr>\n",
       "      <td>7240103965</td>\n",
       "      <td>auburn</td>\n",
       "      <td>2000</td>\n",
       "      <td>1974.0</td>\n",
       "      <td>chevrolet</td>\n",
       "      <td>c-10</td>\n",
       "      <td>good</td>\n",
       "      <td>4 cylinders</td>\n",
       "      <td>gas</td>\n",
       "      <td>190000.0</td>\n",
       "      <td>clean</td>\n",
       "      <td>automatic</td>\n",
       "      <td>rwd</td>\n",
       "      <td>pickup</td>\n",
       "      <td>blue</td>\n",
       "      <td>1974 chev. truck (LONG BED) NEW starter front ...</td>\n",
       "      <td>al</td>\n",
       "      <td>32.861600</td>\n",
       "      <td>-85.216100</td>\n",
       "      <td>2020-12-01T15:54:45-0600</td>\n",
       "    </tr>\n",
       "    <tr>\n",
       "      <td>7239983776</td>\n",
       "      <td>auburn</td>\n",
       "      <td>19500</td>\n",
       "      <td>2005.0</td>\n",
       "      <td>ford</td>\n",
       "      <td>f350 lariat</td>\n",
       "      <td>excellent</td>\n",
       "      <td>8 cylinders</td>\n",
       "      <td>diesel</td>\n",
       "      <td>116000.0</td>\n",
       "      <td>lien</td>\n",
       "      <td>automatic</td>\n",
       "      <td>4wd</td>\n",
       "      <td>pickup</td>\n",
       "      <td>blue</td>\n",
       "      <td>2005 Ford F350 Lariat (Bullet Proofed). This t...</td>\n",
       "      <td>al</td>\n",
       "      <td>32.547500</td>\n",
       "      <td>-85.468200</td>\n",
       "      <td>2020-12-01T12:53:56-0600</td>\n",
       "    </tr>\n",
       "    <tr>\n",
       "      <td>...</td>\n",
       "      <td>...</td>\n",
       "      <td>...</td>\n",
       "      <td>...</td>\n",
       "      <td>...</td>\n",
       "      <td>...</td>\n",
       "      <td>...</td>\n",
       "      <td>...</td>\n",
       "      <td>...</td>\n",
       "      <td>...</td>\n",
       "      <td>...</td>\n",
       "      <td>...</td>\n",
       "      <td>...</td>\n",
       "      <td>...</td>\n",
       "      <td>...</td>\n",
       "      <td>...</td>\n",
       "      <td>...</td>\n",
       "      <td>...</td>\n",
       "      <td>...</td>\n",
       "      <td>...</td>\n",
       "    </tr>\n",
       "    <tr>\n",
       "      <td>7240964712</td>\n",
       "      <td>wausau</td>\n",
       "      <td>19950</td>\n",
       "      <td>2017.0</td>\n",
       "      <td>audi</td>\n",
       "      <td>a4 premium plus quattro awd</td>\n",
       "      <td>excellent</td>\n",
       "      <td>6 cylinders</td>\n",
       "      <td>gas</td>\n",
       "      <td>101270.0</td>\n",
       "      <td>clean</td>\n",
       "      <td>automatic</td>\n",
       "      <td>4wd</td>\n",
       "      <td>SUV</td>\n",
       "      <td>silver</td>\n",
       "      <td>2017 Audi A4 Premium Plus Quattro AWD ✔  We TA...</td>\n",
       "      <td>wi</td>\n",
       "      <td>44.843195</td>\n",
       "      <td>-91.550371</td>\n",
       "      <td>2020-12-03T09:06:21-0600</td>\n",
       "    </tr>\n",
       "    <tr>\n",
       "      <td>7240959076</td>\n",
       "      <td>wausau</td>\n",
       "      <td>14995</td>\n",
       "      <td>2014.0</td>\n",
       "      <td>cadillac</td>\n",
       "      <td>srx</td>\n",
       "      <td>excellent</td>\n",
       "      <td>6 cylinders</td>\n",
       "      <td>gas</td>\n",
       "      <td>83790.0</td>\n",
       "      <td>clean</td>\n",
       "      <td>automatic</td>\n",
       "      <td>4wd</td>\n",
       "      <td>SUV</td>\n",
       "      <td>silver</td>\n",
       "      <td>2014 Cadillac SRX All Wheel Drive Luxury Colle...</td>\n",
       "      <td>wi</td>\n",
       "      <td>44.408867</td>\n",
       "      <td>-89.881210</td>\n",
       "      <td>2020-12-03T08:56:29-0600</td>\n",
       "    </tr>\n",
       "    <tr>\n",
       "      <td>7240954682</td>\n",
       "      <td>wausau</td>\n",
       "      <td>17895</td>\n",
       "      <td>2018.0</td>\n",
       "      <td>hyundai</td>\n",
       "      <td>tucson</td>\n",
       "      <td>excellent</td>\n",
       "      <td>4 cylinders</td>\n",
       "      <td>gas</td>\n",
       "      <td>31888.0</td>\n",
       "      <td>clean</td>\n",
       "      <td>automatic</td>\n",
       "      <td>4wd</td>\n",
       "      <td>SUV</td>\n",
       "      <td>white</td>\n",
       "      <td>2018 Hyundai Tucson SE 2.0 I4 AWD.  Carfax ver...</td>\n",
       "      <td>wi</td>\n",
       "      <td>44.408867</td>\n",
       "      <td>-89.882240</td>\n",
       "      <td>2020-12-03T08:48:08-0600</td>\n",
       "    </tr>\n",
       "    <tr>\n",
       "      <td>7240645700</td>\n",
       "      <td>wyoming</td>\n",
       "      <td>17900</td>\n",
       "      <td>2014.0</td>\n",
       "      <td>cadillac</td>\n",
       "      <td>cts coupe awd</td>\n",
       "      <td>excellent</td>\n",
       "      <td>6 cylinders</td>\n",
       "      <td>gas</td>\n",
       "      <td>53000.0</td>\n",
       "      <td>clean</td>\n",
       "      <td>automatic</td>\n",
       "      <td>4wd</td>\n",
       "      <td>coupe</td>\n",
       "      <td>black</td>\n",
       "      <td>53,000 miles. Cosmetically, in near mint condi...</td>\n",
       "      <td>wy</td>\n",
       "      <td>44.784900</td>\n",
       "      <td>-106.964800</td>\n",
       "      <td>2020-12-02T14:09:45-0700</td>\n",
       "    </tr>\n",
       "    <tr>\n",
       "      <td>7240600465</td>\n",
       "      <td>wyoming</td>\n",
       "      <td>1300</td>\n",
       "      <td>2008.0</td>\n",
       "      <td>jeep</td>\n",
       "      <td>grand cherokee</td>\n",
       "      <td>good</td>\n",
       "      <td>8 cylinders</td>\n",
       "      <td>gas</td>\n",
       "      <td>164000.0</td>\n",
       "      <td>clean</td>\n",
       "      <td>automatic</td>\n",
       "      <td>4wd</td>\n",
       "      <td>SUV</td>\n",
       "      <td>white</td>\n",
       "      <td>PRICE REDUCTION  Turns out the engine is toast...</td>\n",
       "      <td>wy</td>\n",
       "      <td>44.773500</td>\n",
       "      <td>-106.939600</td>\n",
       "      <td>2020-12-02T13:01:04-0700</td>\n",
       "    </tr>\n",
       "  </tbody>\n",
       "</table>\n",
       "<p>429645 rows × 19 columns</p>\n",
       "</div>"
      ],
      "text/plain": [
       "             region  price    year manufacturer                        model  \\\n",
       "id                                                                             \n",
       "7240372487   auburn  35990  2010.0    chevrolet         corvette grand sport   \n",
       "7240309422   auburn   7500  2014.0      hyundai                       sonata   \n",
       "7240224296   auburn   4900  2006.0          bmw                      x3 3.0i   \n",
       "7240103965   auburn   2000  1974.0    chevrolet                         c-10   \n",
       "7239983776   auburn  19500  2005.0         ford                  f350 lariat   \n",
       "...             ...    ...     ...          ...                          ...   \n",
       "7240964712   wausau  19950  2017.0         audi  a4 premium plus quattro awd   \n",
       "7240959076   wausau  14995  2014.0     cadillac                          srx   \n",
       "7240954682   wausau  17895  2018.0      hyundai                       tucson   \n",
       "7240645700  wyoming  17900  2014.0     cadillac                cts coupe awd   \n",
       "7240600465  wyoming   1300  2008.0         jeep               grand cherokee   \n",
       "\n",
       "            condition    cylinders    fuel  odometer title_status  \\\n",
       "id                                                                  \n",
       "7240372487       good  8 cylinders     gas   32742.0        clean   \n",
       "7240309422  excellent  4 cylinders     gas   93600.0        clean   \n",
       "7240224296       good  6 cylinders     gas   87046.0        clean   \n",
       "7240103965       good  4 cylinders     gas  190000.0        clean   \n",
       "7239983776  excellent  8 cylinders  diesel  116000.0         lien   \n",
       "...               ...          ...     ...       ...          ...   \n",
       "7240964712  excellent  6 cylinders     gas  101270.0        clean   \n",
       "7240959076  excellent  6 cylinders     gas   83790.0        clean   \n",
       "7240954682  excellent  4 cylinders     gas   31888.0        clean   \n",
       "7240645700  excellent  6 cylinders     gas   53000.0        clean   \n",
       "7240600465       good  8 cylinders     gas  164000.0        clean   \n",
       "\n",
       "           transmission drive    type paint_color  \\\n",
       "id                                                  \n",
       "7240372487        other   rwd   other        blue   \n",
       "7240309422    automatic   fwd   sedan        blue   \n",
       "7240224296    automatic   rwd     SUV        blue   \n",
       "7240103965    automatic   rwd  pickup        blue   \n",
       "7239983776    automatic   4wd  pickup        blue   \n",
       "...                 ...   ...     ...         ...   \n",
       "7240964712    automatic   4wd     SUV      silver   \n",
       "7240959076    automatic   4wd     SUV      silver   \n",
       "7240954682    automatic   4wd     SUV       white   \n",
       "7240645700    automatic   4wd   coupe       black   \n",
       "7240600465    automatic   4wd     SUV       white   \n",
       "\n",
       "                                                  description state  \\\n",
       "id                                                                    \n",
       "7240372487  Carvana is the safer way to buy a car During t...    al   \n",
       "7240309422  I'll move to another city and try to sell my c...    al   \n",
       "7240224296  Clean 2006 BMW X3 3.0I.  Beautiful and rare Bl...    al   \n",
       "7240103965  1974 chev. truck (LONG BED) NEW starter front ...    al   \n",
       "7239983776  2005 Ford F350 Lariat (Bullet Proofed). This t...    al   \n",
       "...                                                       ...   ...   \n",
       "7240964712  2017 Audi A4 Premium Plus Quattro AWD ✔  We TA...    wi   \n",
       "7240959076  2014 Cadillac SRX All Wheel Drive Luxury Colle...    wi   \n",
       "7240954682  2018 Hyundai Tucson SE 2.0 I4 AWD.  Carfax ver...    wi   \n",
       "7240645700  53,000 miles. Cosmetically, in near mint condi...    wy   \n",
       "7240600465  PRICE REDUCTION  Turns out the engine is toast...    wy   \n",
       "\n",
       "                  lat        long              posting_date  \n",
       "id                                                           \n",
       "7240372487  32.590000  -85.480000  2020-12-02T08:11:30-0600  \n",
       "7240309422  32.547500  -85.468200  2020-12-02T02:11:50-0600  \n",
       "7240224296  32.616807  -85.464149  2020-12-01T19:50:41-0600  \n",
       "7240103965  32.861600  -85.216100  2020-12-01T15:54:45-0600  \n",
       "7239983776  32.547500  -85.468200  2020-12-01T12:53:56-0600  \n",
       "...               ...         ...                       ...  \n",
       "7240964712  44.843195  -91.550371  2020-12-03T09:06:21-0600  \n",
       "7240959076  44.408867  -89.881210  2020-12-03T08:56:29-0600  \n",
       "7240954682  44.408867  -89.882240  2020-12-03T08:48:08-0600  \n",
       "7240645700  44.784900 -106.964800  2020-12-02T14:09:45-0700  \n",
       "7240600465  44.773500 -106.939600  2020-12-02T13:01:04-0700  \n",
       "\n",
       "[429645 rows x 19 columns]"
      ]
     },
     "execution_count": 62,
     "metadata": {},
     "output_type": "execute_result"
    }
   ],
   "source": [
    "df\n"
   ]
  },
  {
   "cell_type": "code",
   "execution_count": 63,
   "metadata": {},
   "outputs": [
    {
     "data": {
      "text/plain": [
       "array(['other', 'sedan', 'SUV', 'pickup', 'coupe', 'van', 'truck',\n",
       "       'mini-van', 'wagon', 'convertible', 'hatchback', 'offroad', 'bus'],\n",
       "      dtype=object)"
      ]
     },
     "execution_count": 63,
     "metadata": {},
     "output_type": "execute_result"
    }
   ],
   "source": [
    "df['type'].unique()"
   ]
  },
  {
   "cell_type": "code",
   "execution_count": 64,
   "metadata": {},
   "outputs": [
    {
     "data": {
      "text/plain": [
       "gas         381119\n",
       "diesel       25574\n",
       "other        15104\n",
       "hybrid        5655\n",
       "electric      2193\n",
       "Name: fuel, dtype: int64"
      ]
     },
     "execution_count": 64,
     "metadata": {},
     "output_type": "execute_result"
    }
   ],
   "source": [
    "    df['fuel'].value_counts()"
   ]
  },
  {
   "cell_type": "code",
   "execution_count": 65,
   "metadata": {},
   "outputs": [
    {
     "data": {
      "text/plain": [
       "array(['good', 'excellent', 'like new', 'fair', 'salvage', 'new'],\n",
       "      dtype=object)"
      ]
     },
     "execution_count": 65,
     "metadata": {},
     "output_type": "execute_result"
    }
   ],
   "source": [
    "df['condition'].unique()"
   ]
  },
  {
   "cell_type": "code",
   "execution_count": 66,
   "metadata": {},
   "outputs": [
    {
     "data": {
      "text/plain": [
       "Index([], dtype='object')"
      ]
     },
     "execution_count": 66,
     "metadata": {},
     "output_type": "execute_result"
    }
   ],
   "source": [
    "df.columns[df.isnull().any()]"
   ]
  },
  {
   "cell_type": "code",
   "execution_count": 67,
   "metadata": {},
   "outputs": [],
   "source": [
    "# cond_dict = {'new':6, 'like new':5, 'excellent':4, 'good':3, 'fair':2, 'salvage':1}\n",
    "# df['condition'].map(cond_dict).astype(int)"
   ]
  },
  {
   "cell_type": "code",
   "execution_count": 68,
   "metadata": {},
   "outputs": [],
   "source": [
    "# fuel_dict = {'electric':5, 'hybrid':4, 'other':3, 'petrol':2, 'diesel':1}\n",
    "# df['fuel'].map(fuel_dict).astype(int)"
   ]
  },
  {
   "cell_type": "code",
   "execution_count": 69,
   "metadata": {},
   "outputs": [
    {
     "data": {
      "text/plain": [
       "array(['clean', 'lien', 'missing', 'salvage', 'rebuilt', 'parts only'],\n",
       "      dtype=object)"
      ]
     },
     "execution_count": 69,
     "metadata": {},
     "output_type": "execute_result"
    }
   ],
   "source": [
    "df['title_status'].unique()"
   ]
  },
  {
   "cell_type": "code",
   "execution_count": 70,
   "metadata": {},
   "outputs": [
    {
     "data": {
      "text/plain": [
       "clean         414761\n",
       "rebuilt         8281\n",
       "salvage         3957\n",
       "lien            1976\n",
       "missing          528\n",
       "parts only       142\n",
       "Name: title_status, dtype: int64"
      ]
     },
     "execution_count": 70,
     "metadata": {},
     "output_type": "execute_result"
    }
   ],
   "source": [
    "df['title_status'].value_counts()"
   ]
  },
  {
   "cell_type": "code",
   "execution_count": 71,
   "metadata": {},
   "outputs": [
    {
     "data": {
      "text/plain": [
       "id\n",
       "7240372487    6\n",
       "7240309422    6\n",
       "7240224296    6\n",
       "7240103965    6\n",
       "7239983776    3\n",
       "             ..\n",
       "7240964712    6\n",
       "7240959076    6\n",
       "7240954682    6\n",
       "7240645700    6\n",
       "7240600465    6\n",
       "Name: title_status, Length: 429645, dtype: int32"
      ]
     },
     "execution_count": 71,
     "metadata": {},
     "output_type": "execute_result"
    }
   ],
   "source": [
    "title_dict = {'clean':6, 'rebuilt':5,'salvage':4, 'lien':3, 'parts only':2, 'missing':1}\n",
    "df['title_status'].map(title_dict).astype(int)\n"
   ]
  },
  {
   "cell_type": "code",
   "execution_count": 72,
   "metadata": {},
   "outputs": [],
   "source": [
    "df['title_status'].replace('clean', 6, inplace=True)\n",
    "df['title_status'].replace('rebuilt', 5, inplace=True)\n",
    "df['title_status'].replace('salvage', 4, inplace=True)\n",
    "df['title_status'].replace('lien', 3, inplace=True)\n",
    "df['title_status'].replace('parts', 2, inplace=True)\n",
    "df['title_status'].replace('missing', 1, inplace=True)"
   ]
  },
  {
   "cell_type": "code",
   "execution_count": 73,
   "metadata": {},
   "outputs": [
    {
     "data": {
      "text/plain": [
       "array(['good', 'excellent', 'like new', 'fair', 'salvage', 'new'],\n",
       "      dtype=object)"
      ]
     },
     "execution_count": 73,
     "metadata": {},
     "output_type": "execute_result"
    }
   ],
   "source": [
    "df['condition'].unique()"
   ]
  },
  {
   "cell_type": "code",
   "execution_count": 74,
   "metadata": {},
   "outputs": [],
   "source": [
    "df['condition'].replace('new', 6, inplace=True)\n",
    "df['condition'].replace('like new', 5, inplace=True)\n",
    "df['condition'].replace('excellent', 4, inplace=True)\n",
    "df['condition'].replace('good', 3, inplace=True)\n",
    "df['condition'].replace('fair', 2, inplace=True)\n",
    "df['condition'].replace('salvage', 1, inplace=True)\n"
   ]
  },
  {
   "cell_type": "code",
   "execution_count": 75,
   "metadata": {},
   "outputs": [],
   "source": [
    "df['fuel'].replace('electric', 5, inplace=True)\n",
    "df['fuel'].replace('hybrid', 4, inplace=True)\n",
    "df['fuel'].replace('other', 3, inplace=True)\n",
    "df['fuel'].replace('gas', 2, inplace=True)\n",
    "df['fuel'].replace('diesel', 1, inplace=True)"
   ]
  },
  {
   "cell_type": "code",
   "execution_count": 76,
   "metadata": {},
   "outputs": [
    {
     "data": {
      "text/plain": [
       "array(['8 cylinders', '4 cylinders', '6 cylinders', '10 cylinders',\n",
       "       '5 cylinders', '3 cylinders', 'other', '12 cylinders'],\n",
       "      dtype=object)"
      ]
     },
     "execution_count": 76,
     "metadata": {},
     "output_type": "execute_result"
    }
   ],
   "source": [
    "df['cylinders'].unique()"
   ]
  },
  {
   "cell_type": "code",
   "execution_count": 77,
   "metadata": {},
   "outputs": [],
   "source": [
    "df['cylinders'].replace('12 cylinders', 12, inplace=True)\n",
    "df['cylinders'].replace('10 cylinders', 10, inplace=True)\n",
    "df['cylinders'].replace('8 cylinders', 8, inplace=True)\n",
    "df['cylinders'].replace('6 cylinders', 6, inplace=True)\n",
    "df['cylinders'].replace('5 cylinders', 5, inplace=True)\n",
    "df['cylinders'].replace('4 cylinders', 4, inplace=True)\n",
    "df['cylinders'].replace('3 cylinders', 3, inplace=True)\n",
    "df['cylinders'].replace('other', 1, inplace=True)"
   ]
  },
  {
   "cell_type": "code",
   "execution_count": 78,
   "metadata": {},
   "outputs": [
    {
     "data": {
      "text/plain": [
       "array(['other', 'automatic', 'manual'], dtype=object)"
      ]
     },
     "execution_count": 78,
     "metadata": {},
     "output_type": "execute_result"
    }
   ],
   "source": [
    "df['transmission'].unique()"
   ]
  },
  {
   "cell_type": "code",
   "execution_count": 79,
   "metadata": {},
   "outputs": [],
   "source": [
    "df['transmission'].replace('automatic', 3, inplace=True)\n",
    "df['transmission'].replace('manual', 2, inplace=True)\n",
    "df['transmission'].replace('other', 1, inplace=True)"
   ]
  },
  {
   "cell_type": "code",
   "execution_count": 80,
   "metadata": {},
   "outputs": [
    {
     "data": {
      "text/plain": [
       "4wd    185955\n",
       "fwd    163601\n",
       "rwd     80089\n",
       "Name: drive, dtype: int64"
      ]
     },
     "execution_count": 80,
     "metadata": {},
     "output_type": "execute_result"
    }
   ],
   "source": [
    "df['drive'].unique()\n",
    "df['drive'].value_counts()"
   ]
  },
  {
   "cell_type": "code",
   "execution_count": 81,
   "metadata": {},
   "outputs": [],
   "source": [
    "df['drive'].replace('4wd', 3, inplace=True)\n",
    "df['drive'].replace('rwd', 2, inplace=True)\n",
    "df['drive'].replace('fwd', 1, inplace=True)"
   ]
  },
  {
   "cell_type": "code",
   "execution_count": 82,
   "metadata": {},
   "outputs": [
    {
     "data": {
      "text/plain": [
       "array(['other', 'sedan', 'SUV', 'pickup', 'coupe', 'van', 'truck',\n",
       "       'mini-van', 'wagon', 'convertible', 'hatchback', 'offroad', 'bus'],\n",
       "      dtype=object)"
      ]
     },
     "execution_count": 82,
     "metadata": {},
     "output_type": "execute_result"
    }
   ],
   "source": [
    "df['type'].unique()"
   ]
  },
  {
   "cell_type": "code",
   "execution_count": 83,
   "metadata": {},
   "outputs": [],
   "source": [
    "df['type'].replace('bus', 13, inplace=True)\n",
    "df['type'].replace('truck', 12, inplace=True)\n",
    "df['type'].replace('coupe', 11, inplace=True)\n",
    "df['type'].replace('convertible', 10, inplace=True)\n",
    "df['type'].replace('SUV', 9, inplace=True)\n",
    "df['type'].replace('offroad', 8, inplace=True)\n",
    "df['type'].replace('van', 7, inplace=True)\n",
    "df['type'].replace('mini-van', 6, inplace=True)\n",
    "df['type'].replace('wagon', 5, inplace=True)\n",
    "df['type'].replace('pickup', 4, inplace=True)\n",
    "df['type'].replace('sedan', 3, inplace=True)\n",
    "df['type'].replace('hatchback', 2, inplace=True)\n",
    "df['type'].replace('other', 1, inplace=True)"
   ]
  },
  {
   "cell_type": "code",
   "execution_count": 84,
   "metadata": {},
   "outputs": [
    {
     "data": {
      "text/plain": [
       "array(['blue', 'red', 'silver', 'black', 'white', 'grey', 'orange',\n",
       "       'green', 'yellow', 'custom', 'brown', 'purple'], dtype=object)"
      ]
     },
     "execution_count": 84,
     "metadata": {},
     "output_type": "execute_result"
    }
   ],
   "source": [
    "df['paint_color'].unique()"
   ]
  },
  {
   "cell_type": "code",
   "execution_count": 85,
   "metadata": {},
   "outputs": [],
   "source": [
    "from sklearn import preprocessing\n",
    "label_encoder = preprocessing.LabelEncoder()\n",
    "df['paint_color']= label_encoder.fit_transform(df['paint_color'])"
   ]
  },
  {
   "cell_type": "code",
   "execution_count": 86,
   "metadata": {},
   "outputs": [
    {
     "data": {
      "text/plain": [
       "dtype('O')"
      ]
     },
     "execution_count": 86,
     "metadata": {},
     "output_type": "execute_result"
    }
   ],
   "source": [
    "df['posting_date'].dtypes"
   ]
  },
  {
   "cell_type": "code",
   "execution_count": 87,
   "metadata": {},
   "outputs": [
    {
     "data": {
      "text/html": [
       "<div>\n",
       "<style scoped>\n",
       "    .dataframe tbody tr th:only-of-type {\n",
       "        vertical-align: middle;\n",
       "    }\n",
       "\n",
       "    .dataframe tbody tr th {\n",
       "        vertical-align: top;\n",
       "    }\n",
       "\n",
       "    .dataframe thead th {\n",
       "        text-align: right;\n",
       "    }\n",
       "</style>\n",
       "<table border=\"1\" class=\"dataframe\">\n",
       "  <thead>\n",
       "    <tr style=\"text-align: right;\">\n",
       "      <th></th>\n",
       "      <th>region</th>\n",
       "      <th>price</th>\n",
       "      <th>year</th>\n",
       "      <th>manufacturer</th>\n",
       "      <th>model</th>\n",
       "      <th>condition</th>\n",
       "      <th>cylinders</th>\n",
       "      <th>fuel</th>\n",
       "      <th>odometer</th>\n",
       "      <th>title_status</th>\n",
       "      <th>transmission</th>\n",
       "      <th>drive</th>\n",
       "      <th>type</th>\n",
       "      <th>paint_color</th>\n",
       "      <th>description</th>\n",
       "      <th>state</th>\n",
       "      <th>lat</th>\n",
       "      <th>long</th>\n",
       "      <th>posting_date</th>\n",
       "    </tr>\n",
       "    <tr>\n",
       "      <th>id</th>\n",
       "      <th></th>\n",
       "      <th></th>\n",
       "      <th></th>\n",
       "      <th></th>\n",
       "      <th></th>\n",
       "      <th></th>\n",
       "      <th></th>\n",
       "      <th></th>\n",
       "      <th></th>\n",
       "      <th></th>\n",
       "      <th></th>\n",
       "      <th></th>\n",
       "      <th></th>\n",
       "      <th></th>\n",
       "      <th></th>\n",
       "      <th></th>\n",
       "      <th></th>\n",
       "      <th></th>\n",
       "      <th></th>\n",
       "    </tr>\n",
       "  </thead>\n",
       "  <tbody>\n",
       "    <tr>\n",
       "      <td>7240372487</td>\n",
       "      <td>auburn</td>\n",
       "      <td>35990</td>\n",
       "      <td>2010.0</td>\n",
       "      <td>chevrolet</td>\n",
       "      <td>corvette grand sport</td>\n",
       "      <td>3</td>\n",
       "      <td>8</td>\n",
       "      <td>2</td>\n",
       "      <td>32742.0</td>\n",
       "      <td>6</td>\n",
       "      <td>1</td>\n",
       "      <td>2</td>\n",
       "      <td>1</td>\n",
       "      <td>1</td>\n",
       "      <td>Carvana is the safer way to buy a car During t...</td>\n",
       "      <td>al</td>\n",
       "      <td>32.590000</td>\n",
       "      <td>-85.480000</td>\n",
       "      <td>2020-12-02T08:11:30-0600</td>\n",
       "    </tr>\n",
       "    <tr>\n",
       "      <td>7240309422</td>\n",
       "      <td>auburn</td>\n",
       "      <td>7500</td>\n",
       "      <td>2014.0</td>\n",
       "      <td>hyundai</td>\n",
       "      <td>sonata</td>\n",
       "      <td>4</td>\n",
       "      <td>4</td>\n",
       "      <td>2</td>\n",
       "      <td>93600.0</td>\n",
       "      <td>6</td>\n",
       "      <td>3</td>\n",
       "      <td>1</td>\n",
       "      <td>3</td>\n",
       "      <td>1</td>\n",
       "      <td>I'll move to another city and try to sell my c...</td>\n",
       "      <td>al</td>\n",
       "      <td>32.547500</td>\n",
       "      <td>-85.468200</td>\n",
       "      <td>2020-12-02T02:11:50-0600</td>\n",
       "    </tr>\n",
       "    <tr>\n",
       "      <td>7240224296</td>\n",
       "      <td>auburn</td>\n",
       "      <td>4900</td>\n",
       "      <td>2006.0</td>\n",
       "      <td>bmw</td>\n",
       "      <td>x3 3.0i</td>\n",
       "      <td>3</td>\n",
       "      <td>6</td>\n",
       "      <td>2</td>\n",
       "      <td>87046.0</td>\n",
       "      <td>6</td>\n",
       "      <td>3</td>\n",
       "      <td>2</td>\n",
       "      <td>9</td>\n",
       "      <td>1</td>\n",
       "      <td>Clean 2006 BMW X3 3.0I.  Beautiful and rare Bl...</td>\n",
       "      <td>al</td>\n",
       "      <td>32.616807</td>\n",
       "      <td>-85.464149</td>\n",
       "      <td>2020-12-01T19:50:41-0600</td>\n",
       "    </tr>\n",
       "    <tr>\n",
       "      <td>7240103965</td>\n",
       "      <td>auburn</td>\n",
       "      <td>2000</td>\n",
       "      <td>1974.0</td>\n",
       "      <td>chevrolet</td>\n",
       "      <td>c-10</td>\n",
       "      <td>3</td>\n",
       "      <td>4</td>\n",
       "      <td>2</td>\n",
       "      <td>190000.0</td>\n",
       "      <td>6</td>\n",
       "      <td>3</td>\n",
       "      <td>2</td>\n",
       "      <td>4</td>\n",
       "      <td>1</td>\n",
       "      <td>1974 chev. truck (LONG BED) NEW starter front ...</td>\n",
       "      <td>al</td>\n",
       "      <td>32.861600</td>\n",
       "      <td>-85.216100</td>\n",
       "      <td>2020-12-01T15:54:45-0600</td>\n",
       "    </tr>\n",
       "    <tr>\n",
       "      <td>7239983776</td>\n",
       "      <td>auburn</td>\n",
       "      <td>19500</td>\n",
       "      <td>2005.0</td>\n",
       "      <td>ford</td>\n",
       "      <td>f350 lariat</td>\n",
       "      <td>4</td>\n",
       "      <td>8</td>\n",
       "      <td>1</td>\n",
       "      <td>116000.0</td>\n",
       "      <td>3</td>\n",
       "      <td>3</td>\n",
       "      <td>3</td>\n",
       "      <td>4</td>\n",
       "      <td>1</td>\n",
       "      <td>2005 Ford F350 Lariat (Bullet Proofed). This t...</td>\n",
       "      <td>al</td>\n",
       "      <td>32.547500</td>\n",
       "      <td>-85.468200</td>\n",
       "      <td>2020-12-01T12:53:56-0600</td>\n",
       "    </tr>\n",
       "    <tr>\n",
       "      <td>...</td>\n",
       "      <td>...</td>\n",
       "      <td>...</td>\n",
       "      <td>...</td>\n",
       "      <td>...</td>\n",
       "      <td>...</td>\n",
       "      <td>...</td>\n",
       "      <td>...</td>\n",
       "      <td>...</td>\n",
       "      <td>...</td>\n",
       "      <td>...</td>\n",
       "      <td>...</td>\n",
       "      <td>...</td>\n",
       "      <td>...</td>\n",
       "      <td>...</td>\n",
       "      <td>...</td>\n",
       "      <td>...</td>\n",
       "      <td>...</td>\n",
       "      <td>...</td>\n",
       "      <td>...</td>\n",
       "    </tr>\n",
       "    <tr>\n",
       "      <td>7240964712</td>\n",
       "      <td>wausau</td>\n",
       "      <td>19950</td>\n",
       "      <td>2017.0</td>\n",
       "      <td>audi</td>\n",
       "      <td>a4 premium plus quattro awd</td>\n",
       "      <td>4</td>\n",
       "      <td>6</td>\n",
       "      <td>2</td>\n",
       "      <td>101270.0</td>\n",
       "      <td>6</td>\n",
       "      <td>3</td>\n",
       "      <td>3</td>\n",
       "      <td>9</td>\n",
       "      <td>9</td>\n",
       "      <td>2017 Audi A4 Premium Plus Quattro AWD ✔  We TA...</td>\n",
       "      <td>wi</td>\n",
       "      <td>44.843195</td>\n",
       "      <td>-91.550371</td>\n",
       "      <td>2020-12-03T09:06:21-0600</td>\n",
       "    </tr>\n",
       "    <tr>\n",
       "      <td>7240959076</td>\n",
       "      <td>wausau</td>\n",
       "      <td>14995</td>\n",
       "      <td>2014.0</td>\n",
       "      <td>cadillac</td>\n",
       "      <td>srx</td>\n",
       "      <td>4</td>\n",
       "      <td>6</td>\n",
       "      <td>2</td>\n",
       "      <td>83790.0</td>\n",
       "      <td>6</td>\n",
       "      <td>3</td>\n",
       "      <td>3</td>\n",
       "      <td>9</td>\n",
       "      <td>9</td>\n",
       "      <td>2014 Cadillac SRX All Wheel Drive Luxury Colle...</td>\n",
       "      <td>wi</td>\n",
       "      <td>44.408867</td>\n",
       "      <td>-89.881210</td>\n",
       "      <td>2020-12-03T08:56:29-0600</td>\n",
       "    </tr>\n",
       "    <tr>\n",
       "      <td>7240954682</td>\n",
       "      <td>wausau</td>\n",
       "      <td>17895</td>\n",
       "      <td>2018.0</td>\n",
       "      <td>hyundai</td>\n",
       "      <td>tucson</td>\n",
       "      <td>4</td>\n",
       "      <td>4</td>\n",
       "      <td>2</td>\n",
       "      <td>31888.0</td>\n",
       "      <td>6</td>\n",
       "      <td>3</td>\n",
       "      <td>3</td>\n",
       "      <td>9</td>\n",
       "      <td>10</td>\n",
       "      <td>2018 Hyundai Tucson SE 2.0 I4 AWD.  Carfax ver...</td>\n",
       "      <td>wi</td>\n",
       "      <td>44.408867</td>\n",
       "      <td>-89.882240</td>\n",
       "      <td>2020-12-03T08:48:08-0600</td>\n",
       "    </tr>\n",
       "    <tr>\n",
       "      <td>7240645700</td>\n",
       "      <td>wyoming</td>\n",
       "      <td>17900</td>\n",
       "      <td>2014.0</td>\n",
       "      <td>cadillac</td>\n",
       "      <td>cts coupe awd</td>\n",
       "      <td>4</td>\n",
       "      <td>6</td>\n",
       "      <td>2</td>\n",
       "      <td>53000.0</td>\n",
       "      <td>6</td>\n",
       "      <td>3</td>\n",
       "      <td>3</td>\n",
       "      <td>11</td>\n",
       "      <td>0</td>\n",
       "      <td>53,000 miles. Cosmetically, in near mint condi...</td>\n",
       "      <td>wy</td>\n",
       "      <td>44.784900</td>\n",
       "      <td>-106.964800</td>\n",
       "      <td>2020-12-02T14:09:45-0700</td>\n",
       "    </tr>\n",
       "    <tr>\n",
       "      <td>7240600465</td>\n",
       "      <td>wyoming</td>\n",
       "      <td>1300</td>\n",
       "      <td>2008.0</td>\n",
       "      <td>jeep</td>\n",
       "      <td>grand cherokee</td>\n",
       "      <td>3</td>\n",
       "      <td>8</td>\n",
       "      <td>2</td>\n",
       "      <td>164000.0</td>\n",
       "      <td>6</td>\n",
       "      <td>3</td>\n",
       "      <td>3</td>\n",
       "      <td>9</td>\n",
       "      <td>10</td>\n",
       "      <td>PRICE REDUCTION  Turns out the engine is toast...</td>\n",
       "      <td>wy</td>\n",
       "      <td>44.773500</td>\n",
       "      <td>-106.939600</td>\n",
       "      <td>2020-12-02T13:01:04-0700</td>\n",
       "    </tr>\n",
       "  </tbody>\n",
       "</table>\n",
       "<p>429645 rows × 19 columns</p>\n",
       "</div>"
      ],
      "text/plain": [
       "             region  price    year manufacturer                        model  \\\n",
       "id                                                                             \n",
       "7240372487   auburn  35990  2010.0    chevrolet         corvette grand sport   \n",
       "7240309422   auburn   7500  2014.0      hyundai                       sonata   \n",
       "7240224296   auburn   4900  2006.0          bmw                      x3 3.0i   \n",
       "7240103965   auburn   2000  1974.0    chevrolet                         c-10   \n",
       "7239983776   auburn  19500  2005.0         ford                  f350 lariat   \n",
       "...             ...    ...     ...          ...                          ...   \n",
       "7240964712   wausau  19950  2017.0         audi  a4 premium plus quattro awd   \n",
       "7240959076   wausau  14995  2014.0     cadillac                          srx   \n",
       "7240954682   wausau  17895  2018.0      hyundai                       tucson   \n",
       "7240645700  wyoming  17900  2014.0     cadillac                cts coupe awd   \n",
       "7240600465  wyoming   1300  2008.0         jeep               grand cherokee   \n",
       "\n",
       "            condition  cylinders  fuel  odometer title_status  transmission  \\\n",
       "id                                                                            \n",
       "7240372487          3          8     2   32742.0            6             1   \n",
       "7240309422          4          4     2   93600.0            6             3   \n",
       "7240224296          3          6     2   87046.0            6             3   \n",
       "7240103965          3          4     2  190000.0            6             3   \n",
       "7239983776          4          8     1  116000.0            3             3   \n",
       "...               ...        ...   ...       ...          ...           ...   \n",
       "7240964712          4          6     2  101270.0            6             3   \n",
       "7240959076          4          6     2   83790.0            6             3   \n",
       "7240954682          4          4     2   31888.0            6             3   \n",
       "7240645700          4          6     2   53000.0            6             3   \n",
       "7240600465          3          8     2  164000.0            6             3   \n",
       "\n",
       "            drive  type  paint_color  \\\n",
       "id                                     \n",
       "7240372487      2     1            1   \n",
       "7240309422      1     3            1   \n",
       "7240224296      2     9            1   \n",
       "7240103965      2     4            1   \n",
       "7239983776      3     4            1   \n",
       "...           ...   ...          ...   \n",
       "7240964712      3     9            9   \n",
       "7240959076      3     9            9   \n",
       "7240954682      3     9           10   \n",
       "7240645700      3    11            0   \n",
       "7240600465      3     9           10   \n",
       "\n",
       "                                                  description state  \\\n",
       "id                                                                    \n",
       "7240372487  Carvana is the safer way to buy a car During t...    al   \n",
       "7240309422  I'll move to another city and try to sell my c...    al   \n",
       "7240224296  Clean 2006 BMW X3 3.0I.  Beautiful and rare Bl...    al   \n",
       "7240103965  1974 chev. truck (LONG BED) NEW starter front ...    al   \n",
       "7239983776  2005 Ford F350 Lariat (Bullet Proofed). This t...    al   \n",
       "...                                                       ...   ...   \n",
       "7240964712  2017 Audi A4 Premium Plus Quattro AWD ✔  We TA...    wi   \n",
       "7240959076  2014 Cadillac SRX All Wheel Drive Luxury Colle...    wi   \n",
       "7240954682  2018 Hyundai Tucson SE 2.0 I4 AWD.  Carfax ver...    wi   \n",
       "7240645700  53,000 miles. Cosmetically, in near mint condi...    wy   \n",
       "7240600465  PRICE REDUCTION  Turns out the engine is toast...    wy   \n",
       "\n",
       "                  lat        long              posting_date  \n",
       "id                                                           \n",
       "7240372487  32.590000  -85.480000  2020-12-02T08:11:30-0600  \n",
       "7240309422  32.547500  -85.468200  2020-12-02T02:11:50-0600  \n",
       "7240224296  32.616807  -85.464149  2020-12-01T19:50:41-0600  \n",
       "7240103965  32.861600  -85.216100  2020-12-01T15:54:45-0600  \n",
       "7239983776  32.547500  -85.468200  2020-12-01T12:53:56-0600  \n",
       "...               ...         ...                       ...  \n",
       "7240964712  44.843195  -91.550371  2020-12-03T09:06:21-0600  \n",
       "7240959076  44.408867  -89.881210  2020-12-03T08:56:29-0600  \n",
       "7240954682  44.408867  -89.882240  2020-12-03T08:48:08-0600  \n",
       "7240645700  44.784900 -106.964800  2020-12-02T14:09:45-0700  \n",
       "7240600465  44.773500 -106.939600  2020-12-02T13:01:04-0700  \n",
       "\n",
       "[429645 rows x 19 columns]"
      ]
     },
     "execution_count": 87,
     "metadata": {},
     "output_type": "execute_result"
    }
   ],
   "source": [
    "df"
   ]
  },
  {
   "cell_type": "code",
   "execution_count": 88,
   "metadata": {},
   "outputs": [
    {
     "data": {
      "text/html": [
       "<div>\n",
       "<style scoped>\n",
       "    .dataframe tbody tr th:only-of-type {\n",
       "        vertical-align: middle;\n",
       "    }\n",
       "\n",
       "    .dataframe tbody tr th {\n",
       "        vertical-align: top;\n",
       "    }\n",
       "\n",
       "    .dataframe thead th {\n",
       "        text-align: right;\n",
       "    }\n",
       "</style>\n",
       "<table border=\"1\" class=\"dataframe\">\n",
       "  <thead>\n",
       "    <tr style=\"text-align: right;\">\n",
       "      <th></th>\n",
       "      <th>region</th>\n",
       "      <th>price</th>\n",
       "      <th>year</th>\n",
       "      <th>manufacturer</th>\n",
       "      <th>model</th>\n",
       "      <th>condition</th>\n",
       "      <th>cylinders</th>\n",
       "      <th>fuel</th>\n",
       "      <th>odometer</th>\n",
       "      <th>title_status</th>\n",
       "      <th>transmission</th>\n",
       "      <th>drive</th>\n",
       "      <th>type</th>\n",
       "      <th>paint_color</th>\n",
       "      <th>description</th>\n",
       "      <th>state</th>\n",
       "      <th>lat</th>\n",
       "      <th>long</th>\n",
       "      <th>posting_date</th>\n",
       "      <th>age</th>\n",
       "    </tr>\n",
       "    <tr>\n",
       "      <th>id</th>\n",
       "      <th></th>\n",
       "      <th></th>\n",
       "      <th></th>\n",
       "      <th></th>\n",
       "      <th></th>\n",
       "      <th></th>\n",
       "      <th></th>\n",
       "      <th></th>\n",
       "      <th></th>\n",
       "      <th></th>\n",
       "      <th></th>\n",
       "      <th></th>\n",
       "      <th></th>\n",
       "      <th></th>\n",
       "      <th></th>\n",
       "      <th></th>\n",
       "      <th></th>\n",
       "      <th></th>\n",
       "      <th></th>\n",
       "      <th></th>\n",
       "    </tr>\n",
       "  </thead>\n",
       "  <tbody>\n",
       "    <tr>\n",
       "      <td>7240372487</td>\n",
       "      <td>auburn</td>\n",
       "      <td>35990</td>\n",
       "      <td>2010.0</td>\n",
       "      <td>chevrolet</td>\n",
       "      <td>corvette grand sport</td>\n",
       "      <td>3</td>\n",
       "      <td>8</td>\n",
       "      <td>2</td>\n",
       "      <td>32742.0</td>\n",
       "      <td>6</td>\n",
       "      <td>1</td>\n",
       "      <td>2</td>\n",
       "      <td>1</td>\n",
       "      <td>1</td>\n",
       "      <td>Carvana is the safer way to buy a car During t...</td>\n",
       "      <td>al</td>\n",
       "      <td>32.590000</td>\n",
       "      <td>-85.480000</td>\n",
       "      <td>2020-12-02T08:11:30-0600</td>\n",
       "      <td>10.0</td>\n",
       "    </tr>\n",
       "    <tr>\n",
       "      <td>7240309422</td>\n",
       "      <td>auburn</td>\n",
       "      <td>7500</td>\n",
       "      <td>2014.0</td>\n",
       "      <td>hyundai</td>\n",
       "      <td>sonata</td>\n",
       "      <td>4</td>\n",
       "      <td>4</td>\n",
       "      <td>2</td>\n",
       "      <td>93600.0</td>\n",
       "      <td>6</td>\n",
       "      <td>3</td>\n",
       "      <td>1</td>\n",
       "      <td>3</td>\n",
       "      <td>1</td>\n",
       "      <td>I'll move to another city and try to sell my c...</td>\n",
       "      <td>al</td>\n",
       "      <td>32.547500</td>\n",
       "      <td>-85.468200</td>\n",
       "      <td>2020-12-02T02:11:50-0600</td>\n",
       "      <td>6.0</td>\n",
       "    </tr>\n",
       "    <tr>\n",
       "      <td>7240224296</td>\n",
       "      <td>auburn</td>\n",
       "      <td>4900</td>\n",
       "      <td>2006.0</td>\n",
       "      <td>bmw</td>\n",
       "      <td>x3 3.0i</td>\n",
       "      <td>3</td>\n",
       "      <td>6</td>\n",
       "      <td>2</td>\n",
       "      <td>87046.0</td>\n",
       "      <td>6</td>\n",
       "      <td>3</td>\n",
       "      <td>2</td>\n",
       "      <td>9</td>\n",
       "      <td>1</td>\n",
       "      <td>Clean 2006 BMW X3 3.0I.  Beautiful and rare Bl...</td>\n",
       "      <td>al</td>\n",
       "      <td>32.616807</td>\n",
       "      <td>-85.464149</td>\n",
       "      <td>2020-12-01T19:50:41-0600</td>\n",
       "      <td>14.0</td>\n",
       "    </tr>\n",
       "    <tr>\n",
       "      <td>7240103965</td>\n",
       "      <td>auburn</td>\n",
       "      <td>2000</td>\n",
       "      <td>1974.0</td>\n",
       "      <td>chevrolet</td>\n",
       "      <td>c-10</td>\n",
       "      <td>3</td>\n",
       "      <td>4</td>\n",
       "      <td>2</td>\n",
       "      <td>190000.0</td>\n",
       "      <td>6</td>\n",
       "      <td>3</td>\n",
       "      <td>2</td>\n",
       "      <td>4</td>\n",
       "      <td>1</td>\n",
       "      <td>1974 chev. truck (LONG BED) NEW starter front ...</td>\n",
       "      <td>al</td>\n",
       "      <td>32.861600</td>\n",
       "      <td>-85.216100</td>\n",
       "      <td>2020-12-01T15:54:45-0600</td>\n",
       "      <td>46.0</td>\n",
       "    </tr>\n",
       "    <tr>\n",
       "      <td>7239983776</td>\n",
       "      <td>auburn</td>\n",
       "      <td>19500</td>\n",
       "      <td>2005.0</td>\n",
       "      <td>ford</td>\n",
       "      <td>f350 lariat</td>\n",
       "      <td>4</td>\n",
       "      <td>8</td>\n",
       "      <td>1</td>\n",
       "      <td>116000.0</td>\n",
       "      <td>3</td>\n",
       "      <td>3</td>\n",
       "      <td>3</td>\n",
       "      <td>4</td>\n",
       "      <td>1</td>\n",
       "      <td>2005 Ford F350 Lariat (Bullet Proofed). This t...</td>\n",
       "      <td>al</td>\n",
       "      <td>32.547500</td>\n",
       "      <td>-85.468200</td>\n",
       "      <td>2020-12-01T12:53:56-0600</td>\n",
       "      <td>15.0</td>\n",
       "    </tr>\n",
       "    <tr>\n",
       "      <td>...</td>\n",
       "      <td>...</td>\n",
       "      <td>...</td>\n",
       "      <td>...</td>\n",
       "      <td>...</td>\n",
       "      <td>...</td>\n",
       "      <td>...</td>\n",
       "      <td>...</td>\n",
       "      <td>...</td>\n",
       "      <td>...</td>\n",
       "      <td>...</td>\n",
       "      <td>...</td>\n",
       "      <td>...</td>\n",
       "      <td>...</td>\n",
       "      <td>...</td>\n",
       "      <td>...</td>\n",
       "      <td>...</td>\n",
       "      <td>...</td>\n",
       "      <td>...</td>\n",
       "      <td>...</td>\n",
       "      <td>...</td>\n",
       "    </tr>\n",
       "    <tr>\n",
       "      <td>7240964712</td>\n",
       "      <td>wausau</td>\n",
       "      <td>19950</td>\n",
       "      <td>2017.0</td>\n",
       "      <td>audi</td>\n",
       "      <td>a4 premium plus quattro awd</td>\n",
       "      <td>4</td>\n",
       "      <td>6</td>\n",
       "      <td>2</td>\n",
       "      <td>101270.0</td>\n",
       "      <td>6</td>\n",
       "      <td>3</td>\n",
       "      <td>3</td>\n",
       "      <td>9</td>\n",
       "      <td>9</td>\n",
       "      <td>2017 Audi A4 Premium Plus Quattro AWD ✔  We TA...</td>\n",
       "      <td>wi</td>\n",
       "      <td>44.843195</td>\n",
       "      <td>-91.550371</td>\n",
       "      <td>2020-12-03T09:06:21-0600</td>\n",
       "      <td>3.0</td>\n",
       "    </tr>\n",
       "    <tr>\n",
       "      <td>7240959076</td>\n",
       "      <td>wausau</td>\n",
       "      <td>14995</td>\n",
       "      <td>2014.0</td>\n",
       "      <td>cadillac</td>\n",
       "      <td>srx</td>\n",
       "      <td>4</td>\n",
       "      <td>6</td>\n",
       "      <td>2</td>\n",
       "      <td>83790.0</td>\n",
       "      <td>6</td>\n",
       "      <td>3</td>\n",
       "      <td>3</td>\n",
       "      <td>9</td>\n",
       "      <td>9</td>\n",
       "      <td>2014 Cadillac SRX All Wheel Drive Luxury Colle...</td>\n",
       "      <td>wi</td>\n",
       "      <td>44.408867</td>\n",
       "      <td>-89.881210</td>\n",
       "      <td>2020-12-03T08:56:29-0600</td>\n",
       "      <td>6.0</td>\n",
       "    </tr>\n",
       "    <tr>\n",
       "      <td>7240954682</td>\n",
       "      <td>wausau</td>\n",
       "      <td>17895</td>\n",
       "      <td>2018.0</td>\n",
       "      <td>hyundai</td>\n",
       "      <td>tucson</td>\n",
       "      <td>4</td>\n",
       "      <td>4</td>\n",
       "      <td>2</td>\n",
       "      <td>31888.0</td>\n",
       "      <td>6</td>\n",
       "      <td>3</td>\n",
       "      <td>3</td>\n",
       "      <td>9</td>\n",
       "      <td>10</td>\n",
       "      <td>2018 Hyundai Tucson SE 2.0 I4 AWD.  Carfax ver...</td>\n",
       "      <td>wi</td>\n",
       "      <td>44.408867</td>\n",
       "      <td>-89.882240</td>\n",
       "      <td>2020-12-03T08:48:08-0600</td>\n",
       "      <td>2.0</td>\n",
       "    </tr>\n",
       "    <tr>\n",
       "      <td>7240645700</td>\n",
       "      <td>wyoming</td>\n",
       "      <td>17900</td>\n",
       "      <td>2014.0</td>\n",
       "      <td>cadillac</td>\n",
       "      <td>cts coupe awd</td>\n",
       "      <td>4</td>\n",
       "      <td>6</td>\n",
       "      <td>2</td>\n",
       "      <td>53000.0</td>\n",
       "      <td>6</td>\n",
       "      <td>3</td>\n",
       "      <td>3</td>\n",
       "      <td>11</td>\n",
       "      <td>0</td>\n",
       "      <td>53,000 miles. Cosmetically, in near mint condi...</td>\n",
       "      <td>wy</td>\n",
       "      <td>44.784900</td>\n",
       "      <td>-106.964800</td>\n",
       "      <td>2020-12-02T14:09:45-0700</td>\n",
       "      <td>6.0</td>\n",
       "    </tr>\n",
       "    <tr>\n",
       "      <td>7240600465</td>\n",
       "      <td>wyoming</td>\n",
       "      <td>1300</td>\n",
       "      <td>2008.0</td>\n",
       "      <td>jeep</td>\n",
       "      <td>grand cherokee</td>\n",
       "      <td>3</td>\n",
       "      <td>8</td>\n",
       "      <td>2</td>\n",
       "      <td>164000.0</td>\n",
       "      <td>6</td>\n",
       "      <td>3</td>\n",
       "      <td>3</td>\n",
       "      <td>9</td>\n",
       "      <td>10</td>\n",
       "      <td>PRICE REDUCTION  Turns out the engine is toast...</td>\n",
       "      <td>wy</td>\n",
       "      <td>44.773500</td>\n",
       "      <td>-106.939600</td>\n",
       "      <td>2020-12-02T13:01:04-0700</td>\n",
       "      <td>12.0</td>\n",
       "    </tr>\n",
       "  </tbody>\n",
       "</table>\n",
       "<p>429645 rows × 20 columns</p>\n",
       "</div>"
      ],
      "text/plain": [
       "             region  price    year manufacturer                        model  \\\n",
       "id                                                                             \n",
       "7240372487   auburn  35990  2010.0    chevrolet         corvette grand sport   \n",
       "7240309422   auburn   7500  2014.0      hyundai                       sonata   \n",
       "7240224296   auburn   4900  2006.0          bmw                      x3 3.0i   \n",
       "7240103965   auburn   2000  1974.0    chevrolet                         c-10   \n",
       "7239983776   auburn  19500  2005.0         ford                  f350 lariat   \n",
       "...             ...    ...     ...          ...                          ...   \n",
       "7240964712   wausau  19950  2017.0         audi  a4 premium plus quattro awd   \n",
       "7240959076   wausau  14995  2014.0     cadillac                          srx   \n",
       "7240954682   wausau  17895  2018.0      hyundai                       tucson   \n",
       "7240645700  wyoming  17900  2014.0     cadillac                cts coupe awd   \n",
       "7240600465  wyoming   1300  2008.0         jeep               grand cherokee   \n",
       "\n",
       "            condition  cylinders  fuel  odometer title_status  transmission  \\\n",
       "id                                                                            \n",
       "7240372487          3          8     2   32742.0            6             1   \n",
       "7240309422          4          4     2   93600.0            6             3   \n",
       "7240224296          3          6     2   87046.0            6             3   \n",
       "7240103965          3          4     2  190000.0            6             3   \n",
       "7239983776          4          8     1  116000.0            3             3   \n",
       "...               ...        ...   ...       ...          ...           ...   \n",
       "7240964712          4          6     2  101270.0            6             3   \n",
       "7240959076          4          6     2   83790.0            6             3   \n",
       "7240954682          4          4     2   31888.0            6             3   \n",
       "7240645700          4          6     2   53000.0            6             3   \n",
       "7240600465          3          8     2  164000.0            6             3   \n",
       "\n",
       "            drive  type  paint_color  \\\n",
       "id                                     \n",
       "7240372487      2     1            1   \n",
       "7240309422      1     3            1   \n",
       "7240224296      2     9            1   \n",
       "7240103965      2     4            1   \n",
       "7239983776      3     4            1   \n",
       "...           ...   ...          ...   \n",
       "7240964712      3     9            9   \n",
       "7240959076      3     9            9   \n",
       "7240954682      3     9           10   \n",
       "7240645700      3    11            0   \n",
       "7240600465      3     9           10   \n",
       "\n",
       "                                                  description state  \\\n",
       "id                                                                    \n",
       "7240372487  Carvana is the safer way to buy a car During t...    al   \n",
       "7240309422  I'll move to another city and try to sell my c...    al   \n",
       "7240224296  Clean 2006 BMW X3 3.0I.  Beautiful and rare Bl...    al   \n",
       "7240103965  1974 chev. truck (LONG BED) NEW starter front ...    al   \n",
       "7239983776  2005 Ford F350 Lariat (Bullet Proofed). This t...    al   \n",
       "...                                                       ...   ...   \n",
       "7240964712  2017 Audi A4 Premium Plus Quattro AWD ✔  We TA...    wi   \n",
       "7240959076  2014 Cadillac SRX All Wheel Drive Luxury Colle...    wi   \n",
       "7240954682  2018 Hyundai Tucson SE 2.0 I4 AWD.  Carfax ver...    wi   \n",
       "7240645700  53,000 miles. Cosmetically, in near mint condi...    wy   \n",
       "7240600465  PRICE REDUCTION  Turns out the engine is toast...    wy   \n",
       "\n",
       "                  lat        long              posting_date   age  \n",
       "id                                                                 \n",
       "7240372487  32.590000  -85.480000  2020-12-02T08:11:30-0600  10.0  \n",
       "7240309422  32.547500  -85.468200  2020-12-02T02:11:50-0600   6.0  \n",
       "7240224296  32.616807  -85.464149  2020-12-01T19:50:41-0600  14.0  \n",
       "7240103965  32.861600  -85.216100  2020-12-01T15:54:45-0600  46.0  \n",
       "7239983776  32.547500  -85.468200  2020-12-01T12:53:56-0600  15.0  \n",
       "...               ...         ...                       ...   ...  \n",
       "7240964712  44.843195  -91.550371  2020-12-03T09:06:21-0600   3.0  \n",
       "7240959076  44.408867  -89.881210  2020-12-03T08:56:29-0600   6.0  \n",
       "7240954682  44.408867  -89.882240  2020-12-03T08:48:08-0600   2.0  \n",
       "7240645700  44.784900 -106.964800  2020-12-02T14:09:45-0700   6.0  \n",
       "7240600465  44.773500 -106.939600  2020-12-02T13:01:04-0700  12.0  \n",
       "\n",
       "[429645 rows x 20 columns]"
      ]
     },
     "execution_count": 88,
     "metadata": {},
     "output_type": "execute_result"
    }
   ],
   "source": [
    "df['age'] = 2020 - df['year']\n",
    "df"
   ]
  },
  {
   "cell_type": "code",
   "execution_count": 89,
   "metadata": {},
   "outputs": [],
   "source": [
    " numeric_data = df.select_dtypes(include=[np.number])"
   ]
  },
  {
   "cell_type": "code",
   "execution_count": 82,
   "metadata": {},
   "outputs": [],
   "source": [
    "dummies = pd.get_dummies(df['manufacturer'])\n",
    "numeric_data = numeric_data.join(dummies)\n",
    "\n",
    "\n",
    "\n",
    "    "
   ]
  },
  {
   "cell_type": "code",
   "execution_count": 98,
   "metadata": {},
   "outputs": [],
   "source": [
    "dummies = pd.get_dummies(df['state'])\n",
    "numeric_data = numeric_data.join(dummies)\n"
   ]
  },
  {
   "cell_type": "code",
   "execution_count": 99,
   "metadata": {},
   "outputs": [
    {
     "data": {
      "text/plain": [
       "(429645, 106)"
      ]
     },
     "execution_count": 99,
     "metadata": {},
     "output_type": "execute_result"
    }
   ],
   "source": [
    "numeric_data.shape"
   ]
  },
  {
   "cell_type": "code",
   "execution_count": 100,
   "metadata": {},
   "outputs": [
    {
     "data": {
      "text/plain": [
       "(100000, 106)"
      ]
     },
     "execution_count": 100,
     "metadata": {},
     "output_type": "execute_result"
    }
   ],
   "source": [
    "nd_df = numeric_data[0:100000]\n",
    "nd_df.shape"
   ]
  },
  {
   "cell_type": "code",
   "execution_count": 101,
   "metadata": {},
   "outputs": [],
   "source": [
    "nd_df = nd_df[nd_df.price > 1]"
   ]
  },
  {
   "cell_type": "code",
   "execution_count": 102,
   "metadata": {},
   "outputs": [
    {
     "data": {
      "text/plain": [
       "(92697, 106)"
      ]
     },
     "execution_count": 102,
     "metadata": {},
     "output_type": "execute_result"
    }
   ],
   "source": [
    "nd_df.shape"
   ]
  },
  {
   "cell_type": "code",
   "execution_count": 103,
   "metadata": {},
   "outputs": [
    {
     "data": {
      "text/plain": [
       "Index(['price', 'year', 'condition', 'cylinders', 'fuel', 'odometer',\n",
       "       'transmission', 'drive', 'type', 'paint_color',\n",
       "       ...\n",
       "       'sd', 'tn', 'tx', 'ut', 'va', 'vt', 'wa', 'wi', 'wv', 'wy'],\n",
       "      dtype='object', length=106)"
      ]
     },
     "execution_count": 103,
     "metadata": {},
     "output_type": "execute_result"
    }
   ],
   "source": [
    "nd_df.columns"
   ]
  },
  {
   "cell_type": "code",
   "execution_count": 104,
   "metadata": {},
   "outputs": [],
   "source": [
    "y_new = nd_df['price']\n",
    "nd_df.drop('price', axis=1, inplace=True)"
   ]
  },
  {
   "cell_type": "code",
   "execution_count": 105,
   "metadata": {},
   "outputs": [
    {
     "data": {
      "text/plain": [
       "(92697, 105)"
      ]
     },
     "execution_count": 105,
     "metadata": {},
     "output_type": "execute_result"
    }
   ],
   "source": [
    "nd_df.shape"
   ]
  },
  {
   "cell_type": "code",
   "execution_count": 106,
   "metadata": {},
   "outputs": [],
   "source": [
    "from sklearn.model_selection import train_test_split\n",
    "X_train, X_test, Y_train, Y_test = train_test_split(nd_df, y_new, test_size=0.1, random_state=5)\n"
   ]
  },
  {
   "cell_type": "code",
   "execution_count": 107,
   "metadata": {},
   "outputs": [
    {
     "name": "stdout",
     "output_type": "stream",
     "text": [
      "X_train: (83427, 105)\n",
      "y_train: (83427,)\n",
      "X_test: (9270, 105)\n",
      "Y_test: (9270,)\n"
     ]
    }
   ],
   "source": [
    "print(f\"X_train: {X_train.shape}\")\n",
    "print(f\"y_train: {Y_train.shape}\")\n",
    "print(f\"X_test: {X_test.shape}\")\n",
    "print(f\"Y_test: {Y_test.shape}\")"
   ]
  },
  {
   "cell_type": "code",
   "execution_count": 108,
   "metadata": {},
   "outputs": [],
   "source": [
    "from sklearn.ensemble import RandomForestRegressor\n",
    "  \n",
    " # create regressor object\n",
    "regressor = RandomForestRegressor(n_estimators = 200, random_state = 0)\n",
    "regressor.fit(X_train, Y_train)\n",
    "y_pred = regressor.predict(X_test)"
   ]
  },
  {
   "cell_type": "code",
   "execution_count": 109,
   "metadata": {},
   "outputs": [
    {
     "data": {
      "text/plain": [
       "array([33048.99      ,  9693.43      ,  3470.46      , ...,\n",
       "       33298.92166667, 14846.84666667, 10263.38      ])"
      ]
     },
     "execution_count": 109,
     "metadata": {},
     "output_type": "execute_result"
    }
   ],
   "source": [
    "y_pred"
   ]
  },
  {
   "cell_type": "code",
   "execution_count": 110,
   "metadata": {},
   "outputs": [
    {
     "name": "stdout",
     "output_type": "stream",
     "text": [
      "Rmse: 6302.015025256434\n"
     ]
    }
   ],
   "source": [
    "from sklearn import metrics\n",
    "print(\"Rmse:\", np.sqrt(metrics.mean_squared_error(Y_test,y_pred)))"
   ]
  },
  {
   "cell_type": "code",
   "execution_count": 95,
   "metadata": {},
   "outputs": [
    {
     "name": "stdout",
     "output_type": "stream",
     "text": [
      "Y_test: (9270,)\n",
      "Y_pred: (9270,)\n"
     ]
    }
   ],
   "source": [
    "print(f\"Y_test: {Y_test.shape}\")\n",
    "print(f\"Y_pred: {y_pred.shape}\")"
   ]
  },
  {
   "cell_type": "code",
   "execution_count": null,
   "metadata": {
    "scrolled": true
   },
   "outputs": [],
   "source": [
    "y_df['diff'] = abs(y_df['y_test'] - y_df['y_pred'])"
   ]
  },
  {
   "cell_type": "code",
   "execution_count": null,
   "metadata": {},
   "outputs": [],
   "source": [
    "y_df['y_pred_diff'] = y_df['diff']/y_df['y_test']"
   ]
  },
  {
   "cell_type": "code",
   "execution_count": null,
   "metadata": {},
   "outputs": [],
   "source": [
    "y_df"
   ]
  },
  {
   "cell_type": "code",
   "execution_count": null,
   "metadata": {},
   "outputs": [],
   "source": [
    "y_df[y_df['diff'] <= 2000].count()\n"
   ]
  },
  {
   "cell_type": "code",
   "execution_count": null,
   "metadata": {},
   "outputs": [],
   "source": [
    "y_df['y_pred_diff'].mean()"
   ]
  },
  {
   "cell_type": "code",
   "execution_count": null,
   "metadata": {},
   "outputs": [],
   "source": [
    "y_df[y_df['y_pred_diff'] < 1]['y_pred_diff'].mean()"
   ]
  },
  {
   "cell_type": "code",
   "execution_count": null,
   "metadata": {},
   "outputs": [],
   "source": []
  }
 ],
 "metadata": {
  "kernelspec": {
   "display_name": "Python 3",
   "language": "python",
   "name": "python3"
  },
  "language_info": {
   "codemirror_mode": {
    "name": "ipython",
    "version": 3
   },
   "file_extension": ".py",
   "mimetype": "text/x-python",
   "name": "python",
   "nbconvert_exporter": "python",
   "pygments_lexer": "ipython3",
   "version": "3.7.4"
  }
 },
 "nbformat": 4,
 "nbformat_minor": 2
}
